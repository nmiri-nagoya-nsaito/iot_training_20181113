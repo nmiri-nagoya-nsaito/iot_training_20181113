{
 "cells": [
  {
   "cell_type": "markdown",
   "metadata": {},
   "source": [
    "# M2Xへの接続\n",
    "\n",
    "## 参考\n",
    "* [M2X API Documentation(AT&T)](https://m2x.att.com/developer/documentation/v2/overview)\n",
    "  * M2Xの提供するAPIに関する公式ドキュメント\n",
    "* [How to connect to the AT&T M2X service from a Raspberry Pi](https://m2x.att.com/developer/tutorials/raspberry/)\n",
    "  * ラズベリー・パイからM2Xに接続するためのソフトウェアセットアップ手順\n",
    "* [m2x-python(AT&T's M2X Python Client)](https://github.com/attm2x/m2x-python)\n",
    "  * PythonでM2Xに接続するためのライブラリ\n",
    "  * 最初は[README](https://github.com/attm2x/m2x-python/blob/master/README.md)および[USAGE](https://github.com/attm2x/m2x-python/blob/master/USAGE.md)を参照\n",
    "  * 使い方については[examples](https://github.com/attm2x/m2x-python/tree/master/examples)にあるサンプルプログラムが参考になる\n",
    "* [AT&T M2X Python Client Library](https://m2x-python.readthedocs.io/en/latest/)\n",
    "  * m2x-pythonの紹介ページ\n",
    "\n",
    "## インストール手順\n",
    "```\n",
    "$ easy_install\n",
    "```"
   ]
  },
  {
   "cell_type": "code",
   "execution_count": 6,
   "metadata": {},
   "outputs": [],
   "source": [
    "from m2x.client import M2XClient"
   ]
  },
  {
   "cell_type": "markdown",
   "metadata": {},
   "source": [
    "アカウント設定ページから Master Key を調べる\n",
    "\n",
    "https://m2x.att.com/account"
   ]
  },
  {
   "cell_type": "code",
   "execution_count": 10,
   "metadata": {},
   "outputs": [],
   "source": [
    "# アクセス用のオブジェクトを生成する\n",
    "client = M2XClient(key='<マスターキー>')"
   ]
  },
  {
   "cell_type": "code",
   "execution_count": null,
   "metadata": {
    "scrolled": true
   },
   "outputs": [],
   "source": [
    "# クライアントデバイスを調べる\n",
    "for dev in client.devices():\n",
    "    print(\"device.name: \", dev.name)\n",
    "    print(\"  id:\", dev.id)\n",
    "    print(\"  key:\", dev.key)\n",
    "    print(\"  visibility:\", dev.visibility)\n",
    "    print(\"  description:\", dev.description)"
   ]
  },
  {
   "cell_type": "code",
   "execution_count": null,
   "metadata": {},
   "outputs": [],
   "source": [
    "for key in client.keys():\n",
    "    print(\"key:\", key.name)"
   ]
  }
 ],
 "metadata": {
  "kernelspec": {
   "display_name": "Python 3",
   "language": "python",
   "name": "python3"
  },
  "language_info": {
   "codemirror_mode": {
    "name": "ipython",
    "version": 3
   },
   "file_extension": ".py",
   "mimetype": "text/x-python",
   "name": "python",
   "nbconvert_exporter": "python",
   "pygments_lexer": "ipython3",
   "version": "3.6.4"
  },
  "toc": {
   "base_numbering": 1,
   "nav_menu": {},
   "number_sections": false,
   "sideBar": true,
   "skip_h1_title": false,
   "title_cell": "Table of Contents",
   "title_sidebar": "Contents",
   "toc_cell": false,
   "toc_position": {},
   "toc_section_display": true,
   "toc_window_display": true
  }
 },
 "nbformat": 4,
 "nbformat_minor": 2
}
