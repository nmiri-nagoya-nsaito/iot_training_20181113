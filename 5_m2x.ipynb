{
 "cells": [
  {
   "cell_type": "markdown",
   "metadata": {},
   "source": [
    "# M2Xへの接続\n",
    "\n",
    "## 参考\n",
    "* [M2X API Documentation(AT&T)](https://m2x.att.com/developer/documentation/v2/overview)\n",
    "  * M2Xの提供するAPIに関する公式ドキュメント\n",
    "* [How to connect to the AT&T M2X service from a Raspberry Pi](https://m2x.att.com/developer/tutorials/raspberry/)\n",
    "  * ラズベリー・パイからM2Xに接続するためのソフトウェアセットアップ手順\n",
    "* [m2x-python(AT&T's M2X Python Client)](https://github.com/attm2x/m2x-python)\n",
    "  * PythonでM2Xに接続するためのライブラリ\n",
    "  * 最初は[README](https://github.com/attm2x/m2x-python/blob/master/README.md)および[USAGE](https://github.com/attm2x/m2x-python/blob/master/USAGE.md)を参照\n",
    "  * 使い方については[examples](https://github.com/attm2x/m2x-python/tree/master/examples)にあるサンプルプログラムが参考になる\n",
    "* [AT&T M2X Python Client Library](https://m2x-python.readthedocs.io/en/latest/)\n",
    "  * m2x-pythonの紹介ページ"
   ]
  },
  {
   "cell_type": "code",
   "execution_count": null,
   "metadata": {},
   "outputs": [],
   "source": [
    "# モジュールのインポート\n",
    "from m2x.client import M2XClient\n",
    "from m2x.v2.devices import Device"
   ]
  },
  {
   "cell_type": "markdown",
   "metadata": {},
   "source": [
    "アカウント設定ページから Master Key を調べる\n",
    "\n",
    "https://m2x.att.com/account"
   ]
  },
  {
   "cell_type": "code",
   "execution_count": null,
   "metadata": {},
   "outputs": [],
   "source": [
    "# アクセス用のオブジェクトを生成する\n",
    "client = M2XClient(key='<マスターキー>')"
   ]
  },
  {
   "cell_type": "code",
   "execution_count": null,
   "metadata": {},
   "outputs": [],
   "source": [
    "# 新しいデバイスを生成する\n",
    "# https://github.com/attm2x/m2x-python/blob/master/examples/create_device.py\n",
    "device = client.create_device(\n",
    "    name='Current Time Example',\n",
    "    description='Store current time',\n",
    "    visibility='public'\n",
    ")\n",
    "\n",
    "print(device.id)"
   ]
  },
  {
   "cell_type": "code",
   "execution_count": null,
   "metadata": {},
   "outputs": [],
   "source": [
    "# デバイスを探す\n",
    "# https://github.com/attm2x/m2x-python/blob/master/examples/search_devices.py\n",
    "\n",
    "params = {\n",
    "    \"name\": 'Current Time Example'\n",
    "}\n",
    "\n",
    "# デバイスの検索．\n",
    "response = Device.search(api=client, data=params)\n",
    "\n",
    "for device in response:\n",
    "    print(\"Name:\", device.name)\n",
    "    print(\"ID:\", device.id)"
   ]
  },
  {
   "cell_type": "code",
   "execution_count": null,
   "metadata": {
    "scrolled": true
   },
   "outputs": [],
   "source": [
    "# デバイスを調べる\n",
    "for dev in client.devices():\n",
    "    print(\"device.name: \", dev.name)\n",
    "    print(\"  id:\", dev.id)\n",
    "    print(\"  key:\", dev.key)\n",
    "    print(\"  visibility:\", dev.visibility)\n",
    "    print(\"  description:\", dev.description)"
   ]
  },
  {
   "cell_type": "code",
   "execution_count": null,
   "metadata": {},
   "outputs": [],
   "source": [
    "# デバイスの新しいストリームを生成する\n",
    "# https://github.com/attm2x/m2x-python/blob/master/examples/create_stream.py\n",
    "\n",
    "params = {\n",
    "    \"name\": 'Current Time Example'\n",
    "}\n",
    "device = Device.search(api=client, data=params)[0]\n",
    "stream = device.create_stream('curTime')\n",
    "print(\"stream name:\", stream.name)\n",
    "print(\"stream id:\", stream.name)"
   ]
  },
  {
   "cell_type": "code",
   "execution_count": null,
   "metadata": {},
   "outputs": [],
   "source": [
    "# データをポストする\n",
    "# https://github.com/attm2x/m2x-python/blob/master/examples/post_value.py\n",
    "import time\n",
    "\n",
    "try:\n",
    "    while True:\n",
    "        t = time.time()\n",
    "        stream.add_value(int(t))\n",
    "        print(\"Posted data: \", t)\n",
    "        time.sleep(4)\n",
    "except KeyboardInterrupt:\n",
    "    print(\"Keyboard Interrupt. Abort.\")\n"
   ]
  },
  {
   "cell_type": "code",
   "execution_count": 56,
   "metadata": {},
   "outputs": [
    {
     "name": "stdout",
     "output_type": "stream",
     "text": [
      "res: <m2x.api.HTTPResponse object at 0x10cf7a518>\n",
      "The job location is in https://api-m2x.att.com/v2/jobs/2018111b1e829d657dbee61b82a0e95335e664\n",
      "Job state is queued, waiting for completion\n",
      "The job has been completed! You can download the result from http://export.m2x.sl.attcompute.com/d4efeb2db43df9e8c013376d29a9abbf%20-%20Current%20Time%20Example%20-%202018-11-12T20:52:24.695Z.csv\n"
     ]
    }
   ],
   "source": [
    "# データをエクスポートする\n",
    "# https://github.com/attm2x/m2x-python/blob/master/examples/export_values.py\n",
    "params = {\n",
    "    \"name\": 'Current Time Example'\n",
    "}\n",
    "device = Device.search(api=client, data=params)[0]\n",
    "stream = device.create_stream('curTime')\n",
    "\n",
    "res = device.values_export()\n",
    "print(\"res:\", res)\n",
    "\n",
    "location = res.headers[\"location\"]\n",
    "\n",
    "print(\"The export job url is %s\" % location)\n",
    "\n",
    "job = client.job(location.split(\"/\")[-1])\n",
    "\n",
    "state = job.state\n",
    "\n",
    "while(state != \"complete\"):\n",
    "\n",
    "    if(state == \"failed\"): sys.exit(\"Job has failed to complete\")\n",
    "\n",
    "    print(\"Job state is %s, waiting for completion\" % state)\n",
    "\n",
    "    time.sleep(5)\n",
    "\n",
    "    job = client.job(location.split(\"/\")[-1])\n",
    "\n",
    "    state = job[\"state\"]\n",
    "\n",
    "print(\"The job has been completed!\\nYou can download the result from %s\" % job.result[\"url\"])"
   ]
  },
  {
   "cell_type": "code",
   "execution_count": null,
   "metadata": {},
   "outputs": [],
   "source": [
    "# ダウンロードのURLをもとに，データをダウンロードする\n",
    "import requests\n",
    "\n",
    "print(\"download from \", job.result[\"url\"])\n",
    "response = requests.get(job.result[\"url\"])"
   ]
  },
  {
   "cell_type": "code",
   "execution_count": null,
   "metadata": {},
   "outputs": [],
   "source": [
    "# ダウンロードしたテキストデータの中身を確認\n",
    "print(response.text)"
   ]
  },
  {
   "cell_type": "code",
   "execution_count": null,
   "metadata": {},
   "outputs": [],
   "source": [
    "# データをCSVファイルに保存\n",
    "with open('some.csv', 'w') as f:\n",
    "    f.write(response.text)"
   ]
  },
  {
   "cell_type": "code",
   "execution_count": null,
   "metadata": {},
   "outputs": [],
   "source": [
    "# 行毎に分割してリストにする\n",
    "response.text.split()"
   ]
  },
  {
   "cell_type": "code",
   "execution_count": null,
   "metadata": {},
   "outputs": [],
   "source": [
    "# 先頭行を除く\n",
    "response.text.split()[1:]"
   ]
  },
  {
   "cell_type": "code",
   "execution_count": null,
   "metadata": {},
   "outputs": [],
   "source": [
    "# 各行をカンマで分割して2要素のリストに\n",
    "csv_string=[line.rstrip().split(\",\") for line in response.text.split()[1:]]\n",
    "\n",
    "print(csv_string)"
   ]
  },
  {
   "cell_type": "code",
   "execution_count": null,
   "metadata": {},
   "outputs": [],
   "source": [
    "# 以上より response.text からグラフにプロットするまでのまとめ\n",
    "\n",
    "%matplotlib inline\n",
    "import pandas as pd\n",
    "import matplotlib.pyplot as plt\n",
    "\n",
    "\n",
    "x = []\n",
    "y = []\n",
    "for item in [line.rstrip().split(\",\") for line in response.text.split()[1:]]:\n",
    "    x.append(item[0])\n",
    "    y.append(item[1])\n",
    "\n",
    "plt.plot(x, y, marker=\"o\")\n",
    "plt.show()\n"
   ]
  }
 ],
 "metadata": {
  "kernelspec": {
   "display_name": "Python 3",
   "language": "python",
   "name": "python3"
  },
  "language_info": {
   "codemirror_mode": {
    "name": "ipython",
    "version": 3
   },
   "file_extension": ".py",
   "mimetype": "text/x-python",
   "name": "python",
   "nbconvert_exporter": "python",
   "pygments_lexer": "ipython3",
   "version": "3.6.4"
  },
  "toc": {
   "base_numbering": 1,
   "nav_menu": {},
   "number_sections": false,
   "sideBar": true,
   "skip_h1_title": false,
   "title_cell": "Table of Contents",
   "title_sidebar": "Contents",
   "toc_cell": false,
   "toc_position": {},
   "toc_section_display": true,
   "toc_window_display": true
  }
 },
 "nbformat": 4,
 "nbformat_minor": 2
}
