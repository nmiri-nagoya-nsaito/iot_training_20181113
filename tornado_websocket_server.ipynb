{
 "cells": [
  {
   "cell_type": "markdown",
   "metadata": {},
   "source": [
    "# Tornadoを使ったWebSocket通信プログラム(サーバー)\n",
    "\n",
    "## Tornadoとは\n",
    "* Pythonで書かれたWebフレームワーク/非同期通信ライブラリ\n",
    "* シングルプロセス，シングルスレッドで動作する\n",
    "* https://www.tornadoweb.org/en/stable/index.html\n"
   ]
  },
  {
   "cell_type": "markdown",
   "metadata": {},
   "source": [
    "## サンプルの内容\n",
    "\n",
    "* Webブラウザで 「http://<サーバのアドレス>:9090」 を開くと「Hello World」というメッセージのページが表示される\n",
    "* WebSocketクライアントから 「ws://<サーバのアドレス>:9090/ws」 に接続し，メッセージを送るとサーバから返答メッセージが返される"
   ]
  },
  {
   "cell_type": "code",
   "execution_count": null,
   "metadata": {
    "scrolled": true
   },
   "outputs": [],
   "source": [
    "# ファイルの内容\n",
    "!cat wb_server.py"
   ]
  },
  {
   "cell_type": "code",
   "execution_count": null,
   "metadata": {},
   "outputs": [],
   "source": [
    "# テンプレートファイルの内容\n",
    "!cat template/index.html"
   ]
  },
  {
   "cell_type": "code",
   "execution_count": null,
   "metadata": {},
   "outputs": [],
   "source": [
    "# スタイルファイルの内容\n",
    "!cat static/style.css"
   ]
  },
  {
   "cell_type": "code",
   "execution_count": null,
   "metadata": {},
   "outputs": [],
   "source": [
    "# サーバを起動(停止するときは停止ボタンを押す)\n",
    "!python3 wb_server.py"
   ]
  }
 ],
 "metadata": {
  "kernelspec": {
   "display_name": "Python 3",
   "language": "python",
   "name": "python3"
  },
  "language_info": {
   "codemirror_mode": {
    "name": "ipython",
    "version": 3
   },
   "file_extension": ".py",
   "mimetype": "text/x-python",
   "name": "python",
   "nbconvert_exporter": "python",
   "pygments_lexer": "ipython3",
   "version": "3.6.4"
  },
  "toc": {
   "base_numbering": 1,
   "nav_menu": {},
   "number_sections": false,
   "sideBar": true,
   "skip_h1_title": false,
   "title_cell": "Table of Contents",
   "title_sidebar": "Contents",
   "toc_cell": false,
   "toc_position": {},
   "toc_section_display": true,
   "toc_window_display": false
  }
 },
 "nbformat": 4,
 "nbformat_minor": 2
}
