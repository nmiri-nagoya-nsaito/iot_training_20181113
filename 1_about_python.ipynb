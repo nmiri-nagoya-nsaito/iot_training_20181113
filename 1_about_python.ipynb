{
 "cells": [
  {
   "cell_type": "markdown",
   "metadata": {},
   "source": [
    "# Python (特にバージョン3系)の情報源\n",
    "* Python3 ドキュメント\n",
    "    * https://docs.python.jp/3/index.html\n",
    "* Python開発者向けガイド\n",
    "    * https://devguide.python.org/\n",
    "* Python Enhancement Proposals(Pythonの拡張に関する提案)\n",
    "    * https://www.python.org/dev/peps/\n",
    "* Pythonチュートリアル\n",
    "    * https://docs.python.jp/3/tutorial/index.html\n",
    "* Python言語リファレンス\n",
    "    * https://docs.python.jp/3/reference/index.html\n",
    "* Python標準ライブラリ\n",
    "    * https://docs.python.jp/3/library/index.html"
   ]
  },
  {
   "cell_type": "markdown",
   "metadata": {},
   "source": [
    "# 前提となる環境の確認"
   ]
  },
  {
   "cell_type": "code",
   "execution_count": null,
   "metadata": {
    "collapsed": true
   },
   "outputs": [],
   "source": [
    "# Pythonのバージョン確認\n",
    "# 行頭に ! をつけることでシェルコマンドを実行することができる\n",
    "!python3 --version"
   ]
  },
  {
   "cell_type": "markdown",
   "metadata": {},
   "source": [
    "# 演算\n",
    "* 参考\n",
    "    * チュートリアル「3.1. Python を電卓として使う」\n",
    "        * https://docs.python.jp/3/tutorial/introduction.html#using-python-as-a-calculator\n",
    "    * 用語集「floor division」\n",
    "        * https://docs.python.jp/3/glossary.html#term-floor-division"
   ]
  },
  {
   "cell_type": "code",
   "execution_count": null,
   "metadata": {
    "collapsed": true,
    "scrolled": true
   },
   "outputs": [],
   "source": [
    "# 加算，減算，乗算\n",
    "print(\"1+2 = \", 1+2)\n",
    "print(\"1-2 = \", 1-2)\n",
    "print(\"4*5 = \", 4*5)\n",
    "\n",
    "# 除算．整数どうしの除算の結果は2系なら整数，3系なら小数\n",
    "print(\"7/5 = \", 7/5)\n",
    "\n",
    "# 累乗\n",
    "print(\"3**2 = \", 3**2)\n",
    "\n",
    "# floor division．一番近くて小さい整数に丸める\n",
    "print(\"11//4 = \", 11//4)\n",
    "\n",
    "# 剰余(modulo operation)．負数に対する剰余は言語により異なるので使わないのが無難\n",
    "print(\"5%3 = \", 5%3)\n",
    "print(\"-5%3 = \", -5%3)"
   ]
  },
  {
   "cell_type": "markdown",
   "metadata": {},
   "source": [
    "# データ型\n",
    "* データの種類・性質を表すもの\n",
    "    * たとえば整数(int)，小数(float)，文字列(string)，など\n",
    "    * 他にも様々な型がインタプリタに組み込まれており，最初から使うことができる\n",
    "\n",
    "* 組み込み関数（Pythonインタプリタに組み込まれている関数）type\n",
    "    * https://docs.python.jp/3/library/functions.html?highlight=type#type\n",
    "* 組み込み型一覧\n",
    "    * https://docs.python.jp/3/library/stdtypes.html"
   ]
  },
  {
   "cell_type": "markdown",
   "metadata": {},
   "source": [
    "## 数・文字列\n",
    "* チュートリアル「3.1.1. 数」\n",
    "    * https://docs.python.jp/3/tutorial/introduction.html#numbers\n",
    "* チュートリアル 「3.1.2. 文字列型 (string)」\n",
    "    * https://docs.python.jp/3/tutorial/introduction.html#strings"
   ]
  },
  {
   "cell_type": "code",
   "execution_count": null,
   "metadata": {
    "collapsed": true
   },
   "outputs": [],
   "source": [
    "# type 関数で定数の型を調べる\n",
    "print(\"type(10) = \", type(10))\n",
    "print(\"type(2.718) = \", type(2.718))\n",
    "print(\"type(\\\"Hello\\\")\", type(\"Hello\"))"
   ]
  },
  {
   "cell_type": "markdown",
   "metadata": {},
   "source": [
    "# 変数"
   ]
  },
  {
   "cell_type": "code",
   "execution_count": null,
   "metadata": {
    "collapsed": true
   },
   "outputs": [],
   "source": [
    "# 変数への代入\n",
    "x = 100\n",
    "\n",
    "# 変数の参照\n",
    "print(\"x = \", x)"
   ]
  },
  {
   "cell_type": "code",
   "execution_count": null,
   "metadata": {
    "collapsed": true
   },
   "outputs": [],
   "source": [
    "# 変数の型\n",
    "# Pythonは状況に応じて型を自動的に決定する\n",
    "x = 100\n",
    "print(\"x = \", x)\n",
    "print(\"type(x): \", type(x))\n",
    "\n",
    "y = 3.14\n",
    "print(\"y = \", y)\n",
    "print(\"type(y): \", type(y))\n",
    "\n",
    "# int と float の乗算結果の型 は float\n",
    "z = x * y\n",
    "print(\"z = x * y = \", z)\n",
    "print(\"type(z): \", type(z))\n",
    "\n",
    "# 文字列型の変数(改行を含む文字列)\n",
    "s = 'First line.\\nSecond line.'\n",
    "print(\"s = \", s)\n",
    "print(\"type(s): \", type(s))"
   ]
  },
  {
   "cell_type": "markdown",
   "metadata": {},
   "source": [
    "## リスト\n",
    "* 複数の値をまとめるためのデータ型．\n",
    "* 複合(compound, composite)データ型の一種\n",
    "* チュートリアル「3.1.3. リスト型 (list)」\n",
    "    * https://docs.python.jp/3/tutorial/introduction.html#lists\n",
    "* チュートリアル「 5.1 リスト型についてもう少し」\n",
    "    * https://docs.python.jp/3/tutorial/datastructures.html#more-on-lists\n",
    "* 標準ライブラリ「4.6.4. リスト型 (list)」\n",
    "    * https://docs.python.jp/3/library/stdtypes.html#lists"
   ]
  },
  {
   "cell_type": "code",
   "execution_count": null,
   "metadata": {
    "collapsed": true
   },
   "outputs": [],
   "source": [
    "# リストの作成, 表示\n",
    "a = [1,2,3,4,5]\n",
    "print(\"a = \", a)\n",
    "\n",
    "# リストの型\n",
    "print(\"type(a) = \", type(a))\n",
    "\n",
    "# 特定要素へのアクセス(indexing)．\n",
    "# インデックスは 0スタート．マイナスは末尾からの順番\n",
    "print(\"a[4] = \", a[4])\n",
    "print(\"a[-2] = \", a[-2])\n",
    "\n",
    "a[4]=99\n",
    "print(\"a = \", a)\n",
    "\n",
    "# リストの一部を取り出す(スライシング, slicing)\n",
    "print(\"a[:] = \", a[:])        # [1,2,3,4,99]\n",
    "print(\"a[1:3] = \", a[1:3])    # [2,3]\n",
    "print(\"a[1:-2] = \", a[1:-2])  # [2,3]\n",
    "print(\"a[2:3] = \", a[2:3])    # [3]\n",
    "print(\"a[1:0] = \", a[1:0])    # []\n",
    "print(\"a[:2] = \", a[:2])      # [1,2]\n",
    "print(\"a[2:] = \", a[2:])      # [3,4,99]\n",
    "print(\"a[-2:] = \", a[-2:])    # [4,99]\n",
    "print(\"a[3:5] = \", a[3:5])    # [4,99]\n",
    "# print(\"a[] = \", a[])        # Error\n",
    "\n",
    "# 連結, 追加\n",
    "a = a + [10, 11, 12]\n",
    "print(\"a = \", a)    # [1, 2, 3, 4, 99, 10, 11, 12]\n",
    "\n",
    "a.append(13)\n",
    "print(\"a = \", a)    # [1, 2, 3, 4, 99, 10, 11, 12, 13]\n",
    "\n",
    "# スライシングを用いた一括変換，一括削除\n",
    "a[2:5] = [7, 8, 9]\n",
    "print(a)            #[1, 2, 7, 8, 9, 10, 11, 12, 13]\n",
    "\n",
    "# 要素の一括削除\n",
    "a[2:5] = []\n",
    "print(a)            #[1, 2, 10, 11, 12, 13]\n",
    "\n",
    "# リストを空にする\n",
    "a[:] = []\n",
    "print(a)    # []\n",
    "\n",
    "#リストの長さ\n",
    "len(a)      # 0\n",
    "a = [1,2,3,4,5]\n",
    "len(a)      # 5\n",
    "\n",
    "# リストの入れ子(ネスト)．リストには異なる型の要素が混在可能\n",
    "a[0] = ['a','b','c']\n",
    "print(a)    # [['a', 'b', 'c'], 2, 3, 4, 5]"
   ]
  },
  {
   "cell_type": "markdown",
   "metadata": {},
   "source": [
    "## タプル型\n",
    "* 標準ライブラリ「4.6.5. タプル型 (tuple)」\n",
    "    * https://docs.python.jp/3/library/stdtypes.html#tuples\n",
    "* 複数の異種データの並びを表現する点ではリストに似ている\n",
    "* タプル型とリスト型はどちらも他の言語における配列に相当するが，区別されている\n",
    "    * リスト型および辞書型はmutable(後から値を変えられる)で，辞書のキーとして使うことができない\n",
    "    * タプル型はimmutable (変更不可)で，辞書のキーとして使うことができる"
   ]
  },
  {
   "cell_type": "code",
   "execution_count": null,
   "metadata": {
    "collapsed": true
   },
   "outputs": [],
   "source": [
    "# タプル型の生成\n",
    "a = (1,2,3)\n",
    "print(\"a = \", a)\n",
    "print(\"type(a) = \", type(a))    # <class 'tuple'>\n",
    "\n",
    "# タプル型要素へのアクセス．リスト型と同様のスライシングが可能\n",
    "print(\"a[0] = \", a[0])          # 1\n",
    "print(\"a[1:3] = \", a[1:3])      # (2, 3)\n",
    "print(\"type(a[1:3]) = \", type(a[1:3]))   # <class 'tuple'>\n",
    "\n",
    "# immutable のため，変更不可\n",
    "a[0] = 3    # Error"
   ]
  },
  {
   "cell_type": "markdown",
   "metadata": {},
   "source": [
    "## ディクショナリ(dictionary)\n",
    "* キーおよび値のペアをデータとして格納するデータ型\n",
    "* 別のプログラミング言語では連想配列などのように呼ばれることもある\n",
    "* リストは数値でインデクス化するのに対し，キーでインデクス化する\n",
    "* キーの集合は順序付けされていない(unordered)（数学的な）集合\n",
    "* キーは変更不能(immutable)な型，かつ，一意でなければならない\n",
    "* 用語集「immutable」\n",
    "    * https://docs.python.jp/3/glossary.html#term-immutable\n",
    "    * 例：数値、文字列、およびタプルなど．ただしタプルは、文字列、数値、その他のタプルのみを含む場合に限り，変更可能なオブジェクトを含むタプルはキーにできない\n",
    "* チュートリアル「5.5 辞書型」\n",
    "    * https://docs.python.jp/3/tutorial/datastructures.html#dictionaries\n",
    "* 標準ライブラリ「4.10. マッピング型 — dict」\n",
    "    * https://docs.python.jp/3/library/stdtypes.html#mapping-types-dict\n",
    "* 標準ライブラリ「2. 組み込み関数 - sorted」\n",
    "    * https://docs.python.jp/3/library/functions.html#sorted\n",
    "* リファレンス「7.5. del 文」\n",
    "    * https://docs.python.jp/3/reference/simple_stmts.html#the-del-statement\n",
    "* リファレンス「6.10.2. 帰属検査演算」\n",
    "    * https://docs.python.jp/3/reference/expressions.html#in\n"
   ]
  },
  {
   "cell_type": "code",
   "execution_count": null,
   "metadata": {
    "collapsed": true
   },
   "outputs": [],
   "source": [
    "# ディクショナリの作成\n",
    "a={'height':80}\n",
    "print(\"a = \", a)                # {'height': 80}\n",
    "print(\"type(a) = \", type(a))    # <class 'dict'>\n",
    "\n",
    "# キーから値を取得\n",
    "print(\"a['height'] = \", a['height'])      # 80\n",
    "print(\"\")\n",
    "\n",
    "\n",
    "# 値の更新\n",
    "a['height'] = 100\n",
    "print(\"a = \", a)        # {'height': 100}\n",
    "\n",
    "# 要素の追加\n",
    "try:\n",
    "    print(a['width'])       # Error\n",
    "except Exception:\n",
    "    print(\"Exception occured when a['width'] is referred.\")\n",
    "    pass\n",
    "a['width'] = 30\n",
    "print(\"a = \", a)        # {'height': 100, 'width': 30}\n",
    "print(\"a['width'] = \", a['width'])       # 30\n",
    "print(\"\")\n",
    "\n",
    "# 空の辞書を作成\n",
    "a={}\n",
    "print(\"a = \", a) # {}\n",
    "print(\"type(a) = \", type(a))  # <class 'dict'>\n",
    "\n",
    "# 複数要素をまとめて作成\n",
    "a={'width':80, 'height':180}\n",
    "print(\"a = \", a) # {'width': 80, 'height': 180}\n",
    "print(\"\")\n",
    "\n",
    "# キーと値のペアからなるタプルのリストで作成\n",
    "a = dict([('width', 90), ('height', 190)])\n",
    "print(\"a = dict([('width', 90), ('height', 190)]) = \", a) # {'width': 90, 'height': 190}\n",
    "print(\"\")\n",
    "\n",
    "# 辞書内包表現(dict comprehensions)からディクショナリ作成\n",
    "b = {x: x**2 for x in (2,4,6)}\n",
    "print(\"b = {x: x**2 for x in (2,4,6)} = \", b) # {2: 4, 4: 16, 6: 36}\n",
    "print(\"\")\n",
    "\n",
    "# 全てのキーの値から構成されるリスト\n",
    "print(\"a = \", a) # {'width': 90, 'height': 190}\n",
    "print(\"list(a.keys()) = \", list(a.keys())) # ['width', 'height']\n",
    "print(\"\")\n",
    "\n",
    "# 全てのキーの値から構成されるソート済みのリスト\n",
    "print(\"a = \", a) # {'width': 90, 'height': 190}\n",
    "print(\"sorted(a.keys()) = \", sorted(a.keys())) # ['height', 'width']\n",
    "print(\"\")\n",
    "\n",
    "# 要素の削除\n",
    "print(\"a = \", a) # {'width': 90, 'height': 190}\n",
    "del a['height']\n",
    "print(\"del a['height']\")\n",
    "print(\"a = \", a) # {'width': 90}\n",
    "print(\"\")\n",
    "\n",
    "# キーをもつ要素が存在するかどうかの存在確認\n",
    "print(\"a = \", a) # {'width': 90}\n",
    "print(\"'height' in a = \",'height' in a)  # False\n",
    "print(\"'width' in a = \", 'width' in a)   # True\n"
   ]
  },
  {
   "cell_type": "markdown",
   "metadata": {},
   "source": [
    "## 集合型\n",
    "* 値の集合を表現する型．要素の重複が許されない．\n",
    "* チュートリアル「5.4. 集合型」\n",
    "    * https://docs.python.jp/3/tutorial/datastructures.html#sets\n",
    "* 標準ライブラリ「4.9. set（集合）型 — set, frozenset」\n",
    "    * https://docs.python.jp/3/library/stdtypes.html#set-types-set-frozenset"
   ]
  },
  {
   "cell_type": "code",
   "execution_count": null,
   "metadata": {
    "collapsed": true
   },
   "outputs": [],
   "source": [
    "# 集合型オブジェクトの生成\n",
    "a = {'apple', 'orange', 'apple', 'pear', 'orange', 'banana'}\n",
    "\n",
    "# 集合型は重複が許されないことの確認\n",
    "print(\"a <-- {'apple', 'orange', 'apple', 'pear', 'orange', 'banana'}\")\n",
    "print(\"type(a) = \", type(a))    # <class 'set'>\n",
    "print(\"a = \", a) # {'orange', 'pear', 'apple', 'banana'}\n",
    "print(\"\")\n",
    "\n",
    "# 集合演算\n",
    "b = {'apple', 'banana'}\n",
    "print(\"b = \", b)\n",
    "print(\"a - b = \", a - b)          # {'orange', 'pear'}\n",
    "print(\"\")\n",
    "\n",
    "# 集合の内包表現\n",
    "a = {x for x in 'abracadabra' if x not in 'abc'}\n",
    "print(\"a = {x for x in 'abracadabra' if x not in 'abc'} = \", a)        # {'r', 'd'}\n"
   ]
  },
  {
   "cell_type": "markdown",
   "metadata": {},
   "source": [
    "## ブーリアン\n",
    "* 真偽を表現するデータ型\n",
    "* True または False のいずれかの値をとり，真偽判定に使用できる\n",
    "    * じつは bool型以外のオブジェクトも判定に使うことができる\n",
    "* 標準ライブラリ「4.1. 真理値判定」\n",
    "    * https://docs.python.jp/3/library/stdtypes.html#truth-value-testing\n",
    "* リファレンス「3.2. 標準型の階層」\n",
    "    * https://docs.python.jp/3/reference/datamodel.html#the-standard-type-hierarchy\n",
    "* 標準ライブラリ「4.3. 比較」\n",
    "    * https://docs.python.jp/3/library/stdtypes.html#comparisons\n",
    "* 参考：標準ライブラリ「4.2. ブール演算 — and, or, not」\n",
    "    * https://docs.python.jp/3/library/stdtypes.html#boolean-operations-and-or-not\n"
   ]
  },
  {
   "cell_type": "code",
   "execution_count": null,
   "metadata": {
    "collapsed": true
   },
   "outputs": [],
   "source": [
    "# 大文字小文字は区別される\n",
    "try:\n",
    "    a = false    # Error\n",
    "except Exception:\n",
    "    print(\"exception occurd in 'a = false'\")\n",
    "    pass\n",
    "\n",
    "# bool 値の代入\n",
    "a = False\n",
    "print(\"a = \", a)    # False\n",
    "print(\"type(a) = \", type(a))    # <class 'bool'>\n",
    "print(\"\")\n",
    "\n",
    "# 大抵の場合，1 または 0 の整数のように振る舞う．\n",
    "# 文字列へ変換するときは True または False になる\n",
    "print(\"(a == False) = \", a == False)    # True\n",
    "print(\"(a == 0) = \", a == 0)        # True\n",
    "print(\"\")\n",
    "\n",
    "a = 0\n",
    "print(\"a = \", a)\n",
    "print(\"type(a) = \", type(a))    # <class 'int'>\n",
    "print(\"(a == False) = \", a == False)    # True\n",
    "print(\"\")\n",
    "\n",
    "a = True\n",
    "print(\"a = \", a)    # True\n",
    "print(\"(a == 1) = \", a == 1)    # True\n",
    "print(\"\")\n",
    "\n",
    "# 値の比較 (<, >, <=, >=, ==, !=, is, is not)\n",
    "a = True\n",
    "b = False\n",
    "c = True\n",
    "print(\"a = \", a)\n",
    "print(\"b = \", b)\n",
    "print(\"c = \", c)\n",
    "\n",
    "print(\"(a > b) = \", a > b)      # True\n",
    "print(\"(a is b) = \", a is b)    # False(同一オブジェクトではない)\n",
    "print(\"(a is c) = \", a is c)    # True(同一オブジェクト)\n",
    "print(\"\")\n",
    "\n",
    "# ブール演算．優先順位に注意\n",
    "a = True\n",
    "b = False\n",
    "print(\"a = \", a)\n",
    "print(\"b = \", b)\n",
    "print(\"(a and b) = \", a and b)  # False\n",
    "print(\"(a or b) = \", a or b)    # True\n",
    "print(\"(not a) = \", not a)      # False\n",
    "print(\"\")\n",
    "\n",
    "c = False\n",
    "print(\"a = \", a)\n",
    "print(\"b = \", b)\n",
    "print(\"c = \", c)\n",
    "print(\"(a or b and c) = \", a or b and c)            # True\n",
    "print(\"((a or b) and c) = \", (a or b) and c)        # False\n",
    "print(\"(not a or b and c) = \", not a or b and c)    # False\n",
    "print(\"(not ((a or b) and c)) = \", not ((a or b) and c)) # True\n"
   ]
  },
  {
   "cell_type": "markdown",
   "metadata": {},
   "source": [
    "# 制御構造"
   ]
  },
  {
   "cell_type": "markdown",
   "metadata": {},
   "source": [
    "## if\n",
    "* 条件分岐処理の記述に用いる\n",
    "    * キーワードif の後ろには bool型変数以外に真偽を判定可能な値を置くことが可能\n",
    "\n",
    "* チュートリアル「4.1. if 文」\n",
    "    * https://docs.python.jp/3/tutorial/controlflow.html#if-statements\n",
    "* リファレンス「8.1. if 文」\n",
    "    * https://docs.python.jp/3/reference/compound_stmts.html#if\n",
    "* 標準ライブラリ「4.1. 真理値判定」\n",
    "    * https://docs.python.jp/3/library/stdtypes.html#truth-value-testing\n",
    "* チュートリアル「5.7. 条件についてもう少し」\n",
    "    * https://docs.python.jp/3/tutorial/datastructures.html#more-on-conditions\n",
    "* チュートリアル「4.8. 間奏曲: コーディングスタイル」\n",
    "    * https://docs.python.jp/3/tutorial/controlflow.html#intermezzo-coding-style\n",
    "* PEP 8 -- Style Guide for Python Code\n",
    "    * https://www.python.org/dev/peps/pep-0008/\n",
    "* 組み込み関数 input\n",
    "    * https://docs.python.jp/3/library/functions.html#input\n"
   ]
  },
  {
   "cell_type": "code",
   "execution_count": null,
   "metadata": {
    "collapsed": true
   },
   "outputs": [],
   "source": [
    "# if 文の実行\n",
    "hungry = True\n",
    "if hungry:\n",
    "    print(\"I'm hungry.\")    # \"I'm hungry.\""
   ]
  },
  {
   "cell_type": "code",
   "execution_count": null,
   "metadata": {
    "collapsed": true
   },
   "outputs": [],
   "source": [
    "# キーワードif の行末にはコロン \":\" が必要（無いとエラー）\n",
    "try:\n",
    "    if hungry\n",
    "        print(\"I'm hungry.\")    # \"I'm hungry.\"\n",
    "except Exception:\n",
    "    print(\"exception occured in 'if hungry' because colon is missing.\")\n",
    "    pass"
   ]
  },
  {
   "cell_type": "code",
   "execution_count": null,
   "metadata": {
    "collapsed": true
   },
   "outputs": [],
   "source": [
    "# オフサイドルール：if文の中身であることを示す行頭の空白が必要\n",
    "# 4つの空白が推奨されている．詳しくはコーディングスタイル(PEP-8)を参照\n",
    "hungry = True\n",
    "try:\n",
    "    if hungry:\n",
    "    print(\"I'm hungry.\")  # Error: インデントされていない\n",
    "except Exception:\n",
    "    print(\"exception occured in print(\\\"I'm hungry.\\\") because if-clouse is not followed by an indented block.\")"
   ]
  },
  {
   "cell_type": "code",
   "execution_count": null,
   "metadata": {
    "collapsed": true
   },
   "outputs": [],
   "source": [
    "# elif および else を用いた複雑な条件分岐の例\n",
    "x = int(input(\"Please enter an integer:\"))\n",
    "\n",
    "if x < 0:\n",
    "    x = 0\n",
    "    print('Negative changed to zero')\n",
    "elif x == 0:\n",
    "    print('Zero')\n",
    "elif x == 1:\n",
    "    print('Single')\n",
    "else:\n",
    "    print('More')"
   ]
  },
  {
   "cell_type": "markdown",
   "metadata": {},
   "source": [
    "## for\n",
    "* 繰り返し処理の記述に使用する\n",
    "* チュートリアル「4.2. for 文」\n",
    "    * https://docs.python.jp/3/tutorial/controlflow.html#for-statements\n",
    "* リファレンス「8.3 for 文」\n",
    "    * https://docs.python.jp/3/reference/compound_stmts.html#the-for-statement\n",
    "* 参考：チュートリアル「4.4. break 文と continue 文とループの else 節」\n",
    "    * https://docs.python.jp/3/tutorial/controlflow.html#break-and-continue-statements-and-else-clauses-on-loops\n",
    "\n"
   ]
  },
  {
   "cell_type": "code",
   "execution_count": null,
   "metadata": {
    "collapsed": true
   },
   "outputs": [],
   "source": [
    "# リストに対する繰り返し\n",
    "# for文の行末にコロンが必要なこと，ブロック内のインデントが必要な点はif文と同じ\n",
    "print(\"[1,2,3]\")\n",
    "print(\"for i in [1,2,3]:\")\n",
    "for i in [1,2,3]:\n",
    "    print(i)    # 1 2 3\n",
    "print(\"\")"
   ]
  },
  {
   "cell_type": "code",
   "execution_count": null,
   "metadata": {
    "collapsed": true
   },
   "outputs": [],
   "source": [
    "# 上と同じ結果は次のようにしても得られる\n",
    "print(\"for i in range(1,4):\")\n",
    "for i in range(1,4):\n",
    "    print(i)\n",
    "print(\"\")"
   ]
  },
  {
   "cell_type": "code",
   "execution_count": null,
   "metadata": {
    "collapsed": true
   },
   "outputs": [],
   "source": [
    "# ディクショナリに対する繰り返し\n",
    "# 参考：チュートリアル「5.6. ループのテクニック」\n",
    "a = {'width':90, 'height':200}\n",
    "print(\"a = \", a)\n",
    "print(\"for i in list(a.keys()):\")\n",
    "for i in list(a.keys()):\n",
    "    print(i)    # width height\n",
    "print(\"\")\n",
    "\n",
    "# ディクショナリーをforに使うとループ変数にはキーが挿入される\n",
    "print(\"for i in a:\")\n",
    "for i in a:\n",
    "    print(\"i = \", i)    # width height\n",
    "print(\"\")\n",
    "\n",
    "# 代入されるキーを使ってディクショナリー各要素の値を取り出す\n",
    "print(\"for i in a:\")\n",
    "for i in a:\n",
    "    print(\"a[{i}] = \".format(i=i), a[i]) # 90 200\n",
    "print(\"\")"
   ]
  },
  {
   "cell_type": "code",
   "execution_count": null,
   "metadata": {
    "collapsed": true
   },
   "outputs": [],
   "source": [
    "# else, break, continue\n",
    "\n",
    "# else: ループ終了時に1回だけ処理を実行する\n",
    "print(\"else-clause sample:\")\n",
    "for i in [1,2,3]:\n",
    "    print(i)\n",
    "else:\n",
    "    print(\"end.\")  # 1 2 3 end.\n",
    "print(\"\")\n",
    "\n",
    "# break: ループを途中で抜ける．else 節は実行されない\n",
    "print(\"break statement sample:\")\n",
    "for i in [1,2,3]:\n",
    "    if i > 2:\n",
    "        break\n",
    "    else:\n",
    "        print(i)\n",
    "else:\n",
    "    print(\"end.\")  # 1 2 \n",
    "print(\"\")\n",
    "\n",
    "# continue: 処理のスキップ．処理を飛ばして次の繰り返し（またはelse節）を実行する\n",
    "print(\"continue statement sample:\")\n",
    "for i in [1,2,3]:\n",
    "    if i == 2:\n",
    "        continue\n",
    "    else:\n",
    "        print(i)\n",
    "else:\n",
    "    print(\"end.\")  # 1 3 end."
   ]
  },
  {
   "cell_type": "markdown",
   "metadata": {},
   "source": [
    "# 関数\n",
    "* 処理をまとめるための記述\n",
    "* チュートリアル「4.6. 関数を定義する」\n",
    "    * https://docs.python.jp/3/tutorial/controlflow.html#defining-functions\n",
    "* チュートリアル「 4.7. 関数定義についてもう少し」\n",
    "    * https://docs.python.jp/3/tutorial/controlflow.html#more-on-defining-functions\n",
    "* リファレンス「8.6. 関数定義」\n",
    "    * https://docs.python.jp/3/reference/compound_stmts.html#function-definitions\n",
    "* チュートリアル「4.7.6. ドキュメンテーション文字列」\n",
    "    * https://docs.python.jp/3/tutorial/controlflow.html#tut-docstrings\n",
    "* 文字列リテラルについてはチュートリアル「3.1.2. 文字列型 (string)」を参照\n",
    "    * https://docs.python.jp/3/tutorial/introduction.html#strings\n"
   ]
  },
  {
   "cell_type": "code",
   "execution_count": null,
   "metadata": {
    "collapsed": true
   },
   "outputs": [],
   "source": [
    "# 引数をとらない関数\n",
    "\n",
    "# 関数定義は def で始まり，その後に関数名およびカッコで囲った仮引数のリストを記述する\n",
    "# def の行末はコロンで終わり，関数ブロックはインデント\n",
    "def hello():\n",
    "    print(\"Hello!\")\n",
    "\n",
    "# 関数の呼び出し\n",
    "hello()    # Hello!\n",
    "# 関数の型\n",
    "print(\"type(hello) = \", type(hello))    # <class 'function'>"
   ]
  },
  {
   "cell_type": "code",
   "execution_count": null,
   "metadata": {
    "collapsed": true
   },
   "outputs": [],
   "source": [
    "# 引数をとる関数\n",
    "\n",
    "# フィボナッチ数列の表示\n",
    "def fib(n):\n",
    "    # 関数ブロックの最初の行は「文字列リテラル（文書の自動生成用）」に利用可能\n",
    "    \"\"\"Print a Fibonacci series up to n.\"\"\"\n",
    "    a, b = 0, 1\n",
    "    while a < n:\n",
    "        print(a, end=' ')\n",
    "        a, b = b, a+b\n",
    "    print()\n",
    "\n",
    "# 実際に呼び出してみる\n",
    "print(\"fib(1025) = \")\n",
    "fib(1025)    # 0 1 1 2 3 5 8 13 21 34 55 89 144 233 377 610 987 \n",
    "print(\"\")\n",
    "\n",
    "# ドキュメンテーション文字列の出力\n",
    "print(\"the docstring of fib function: \", fib.__doc__)\n",
    "print(\"\")"
   ]
  },
  {
   "cell_type": "code",
   "execution_count": null,
   "metadata": {
    "collapsed": true
   },
   "outputs": [],
   "source": [
    "# 値を返す関数の例：フィボナッチ数列をリストとして返す\n",
    "def fib(n):\n",
    "    \"\"\"Print a Fibonacci series up to n.\"\"\"\n",
    "    a, b = 0, 1\n",
    "    result = []\n",
    "    while a < n:\n",
    "        result.append(a)\n",
    "        a, b = b, a+b\n",
    "    return result\n",
    "\n",
    "fib_seq = fib(1025)\n",
    "print(\"fib_seq = fib(1025) = \", fib_seq)    # [0, 1, 1, 2, 3, 5, 8, 13, 21, 34, 55, 89, 144, 233, 377, 610, 987]"
   ]
  },
  {
   "cell_type": "markdown",
   "metadata": {},
   "source": [
    "## シンボルテーブル\n",
    "* Pythonプログラムはシンボルテーブルとよばれるディクショナリを持つ\n",
    "* シンボルテーブルはグローバル変数を格納するものと，関数内などのローカルな変数を格納するものとがある\n",
    "\n",
    "** 関数呼び出し時のシンボルテーブル **\n",
    "* 関数呼び出し時の実引数はローカルなシンボルテーブルに取り込まれる\n",
    "* オブジェクトの**参照の値**が渡される\n",
    "    * たとえば整数の値を渡しているように見えても実際は整数オブジェクトへの参照が渡されていることになる\n",
    "    * 異なる整数値は異なる整数オブジェクトであり，参照の値は異なる\n",
    "* 関数内での変数代入はすべてローカル変数への代入となる\n",
    "グローバル変数への代入は，global文を使わずに代入することはできない\n",
    "リファレンス「7.12. global 文」\n",
    "参照の場合は，ローカルに同名の変数がなければグローバル変数を検索する\n"
   ]
  },
  {
   "cell_type": "code",
   "execution_count": null,
   "metadata": {
    "collapsed": true
   },
   "outputs": [],
   "source": [
    "# グローバル変数一覧の確認\n",
    "#print(\"globals(): \", globals())\n",
    "print(\"\")\n",
    "\n",
    "# 生成されたグローバル変数xが追加されているのを確認\n",
    "if 'x' in globals():\n",
    "    del globals()['x']\n",
    "print(\"'x' is in globals(): \", 'x' in globals())\n",
    "x = 30\n",
    "print(\"x = \", x)\n",
    "print(\"'x' is in globals(): \", 'x' in globals())\n",
    "print(\"\")\n",
    "\n",
    "# 関数呼び出し時のシンボルテーブルの確認\n",
    "def increment(x):\n",
    "    # ローカル変数一覧の表示\n",
    "    print(\"locals(): \", locals())   # {'x': 30}   # 呼び出し側から渡されたオブジェクト(30という整数のオブジェクト)\n",
    "    x = x + 1\n",
    "    print(\"x = x + 1 = \", x)\n",
    "    print(\"locals(): \", locals())   # {'x': 31}   # ローカル変数xは31という整数のオブジェクトを参照するように変化した\n",
    "\n",
    "# 呼び出して値を確認\n",
    "print(\"x(in globals()): \", globals()['x']) \n",
    "increment(x)\n",
    "# グローバル側の値も確認\n",
    "print(\"x(in globals()): \", globals()['x'])   # グローバルテーブルでは変数xは30というオブジェクトの参照で変わらない\n",
    "print(\"\")\n",
    "\n",
    "# mutable なオブジェクト（例えばリスト）の場合\n",
    "# 参照するオブジェクトが変化しなくてもその中身が変われば，呼び出し側も変化する\n",
    "def increment(x):\n",
    "    print(\"locals(): \", locals())\n",
    "    x[0] = x[0] + 1\n",
    "    print(\"x[0] = x[0] + 1 = \", x[0])\n",
    "    print(\"locals(): \", locals())\n",
    "\n",
    "# mutable なオブジェクトとしてリストをセット\n",
    "x = [30]\n",
    "print(\"x(in globals()): \", globals()['x'])\n",
    "increment(x)\n",
    "print(\"x(in globals()): \", globals()['x'])\n"
   ]
  },
  {
   "cell_type": "markdown",
   "metadata": {},
   "source": [
    " ## そもそも変数とは\n",
    "* 変数：あるオブジェクトに束縛(bind)されている名前（文字列）\n",
    "* 参考\n",
    "    * レファレンス「4.2. 名前づけと束縛 (naming and binding)」\n",
    "        * https://docs.python.jp/3/reference/executionmodel.html#naming-and-binding\n",
    "    * 標準ライブラリ「2. 組み込み関数 - id」\n",
    "        * https://docs.python.jp/3/library/functions.html#id\n",
    "    * リファレンス「7.5. del 文」\n",
    "        * https://docs.python.jp/3/reference/simple_stmts.html#the-del-statement"
   ]
  },
  {
   "cell_type": "code",
   "execution_count": null,
   "metadata": {
    "collapsed": true
   },
   "outputs": [],
   "source": [
    "# 変数への値の代入\n",
    "x = 100\n",
    "print(\"x = \", x)\n",
    "print(\"x(in locals())\", locals()['x'])\n",
    "print(\"\")\n",
    "\n",
    "# del文による変数の削除（名前の解放 unbound）\n",
    "del x\n",
    "print(\"del x\")\n",
    "print(\"'x' in locals() = \", 'x' in locals())\n",
    "print(\"\")"
   ]
  },
  {
   "cell_type": "code",
   "execution_count": null,
   "metadata": {
    "collapsed": true
   },
   "outputs": [],
   "source": [
    "# 変数に代入（名前が100というオブジェクトに束縛された）\n",
    "x = 100\n",
    "print(\"x = \", x)\n",
    "\n",
    "# 変数xが参照しているオブジェクト(整数100)のID\n",
    "print(\"id(x) = \", id(x))\n",
    "\n",
    "# 'x' という名前（文字列オブジェクト）のID\n",
    "print(\"id('x') = \", id('x'))\n",
    "print(\"\")\n",
    "\n",
    "# 別の変数にxと同じ値を代入．yが参照するオブジェクトのIDはid(x)と同じ\n",
    "y = 100\n",
    "print(\"y = \", y)\n",
    "print(\"id(y) = \", id(y))\n",
    "\n",
    "# 名前'y' のIDは別に存在する\n",
    "print(\"id('y') = \", id('y'))\n",
    "print(\"\")\n",
    "\n",
    "# yの値を変更する\n",
    "# すると yは200というオブジェクトを参照するためIDが変わる．一方 'y'のIDはそのまま\n",
    "y = 200\n",
    "print(\"y = \", y)\n",
    "print(\"id(y) = \", id(y))\n",
    "print(\"id('y') = \", id('y'))\n",
    "print(\"\")\n",
    "\n",
    "# xの値をyと同じにすると，yと同じオブジェクトを参照することになるため参照先のIDは同じになる\n",
    "x = 200\n",
    "print(\"x = \", x)\n",
    "print(\"id(x) = \", id(x))\n",
    "\n",
    "# もちろん，'x'という名前のIDは変わらない\n",
    "print(\"id('x') = \", id('x'))"
   ]
  },
  {
   "cell_type": "markdown",
   "metadata": {},
   "source": [
    "# クラス\n",
    "* オリジナルのメソッドやインスタンス変数をもつ独自のデータ型を定義する仕組み\n",
    "    * 対して，始めからインタプリタに組み込まれている型を組み込み型という\n",
    "* Python のクラスは C++ と Modula-3 のクラスメカニズムを混ぜたもの\n",
    "* データ隠蔽のための仕組みがない（プライベートなメンバがない）\n",
    "    * いくつかの慣習はある\n",
    "        * アンダースコアで始まる名前は非public扱い\n",
    "        * サブクラスで定義された名前との衝突を避ける場合などのため，__<名前> (先頭に二個以上の下線文字、末尾に一個以下の下線文字) という形式の識別子は _<クラス名>__<名前> へとテキスト置換される（mangling: 難号化）\n",
    "* クラス継承メカニズム\n",
    "    * 複数の基底クラスを持つことができる（多重継承）\n",
    "    * メンバ関数は全て仮想関数．派生クラスで基底クラスの任意のメソッドをオーバライドすることができる\n",
    "        * ほとんどの組み込み演算子 (算術演算子や添字表記) はクラスインスタンスで使うために再定義できる\n",
    "        * 組込み型を基底クラスにした拡張ができる\n",
    "    * 基底クラスのメソッドを同じ名前で呼び出すことができる\n",
    "* クラスは実行時に生成され、生成後に変更することができる\n",
    "    * 空のクラスだけ作っておき，あとで属性追加するとか\n",
    "* 参考\n",
    "    * チュートリアル「9. クラス」\n",
    "        * https://docs.python.jp/3/tutorial/classes.html\n",
    "    * リファレンス「8.7. クラス定義」\n",
    "        * https://docs.python.jp/3/reference/compound_stmts.html#class-definitions\n"
   ]
  },
  {
   "cell_type": "markdown",
   "metadata": {},
   "source": [
    "## クラスの実装"
   ]
  },
  {
   "cell_type": "code",
   "execution_count": null,
   "metadata": {
    "collapsed": true
   },
   "outputs": [],
   "source": [
    "# クラス定義の例\n",
    "# coding: utf-8\n",
    "class Man:  # クラス定義のキーワード．行末にはコロン．次行からオフサイドルールの適用\n",
    "    \"\"\"サンプルクラス\"\"\"\n",
    "\n",
    "    def __init__(self, name):   # コンストラクタ(インスタンス生成の際に1度だけ実行される)\n",
    "        self.name = name        # 属性は代入した時点で作られる\n",
    "        print(\"Initilized!\")\n",
    "\n",
    "    def hello(self):    # メソッドの第１引数は慣習的にself(自身のインスタンス)\n",
    "        print(\"Hello \" + self.name + \"!\")\n",
    "\n",
    "    def goodbye(self):\n",
    "        print(\"Good-bye \" + self.name + \"!\")\n",
    "\n",
    "m = Man(\"David\")  # Manクラスのインスタンス（オブジェクト）生成\n",
    "m.hello() \n",
    "m.goodbye()\n"
   ]
  },
  {
   "cell_type": "markdown",
   "metadata": {},
   "source": [
    "## 派生クラスの生成"
   ]
  },
  {
   "cell_type": "code",
   "execution_count": null,
   "metadata": {
    "collapsed": true
   },
   "outputs": [],
   "source": [
    "class PerfectHuman(Man):\n",
    "    \"\"\"派生クラス\"\"\"\n",
    "\n",
    "    def __init__(self, name):\n",
    "        self.name = name\n",
    "        print(\"Initilized!\")\n",
    "\n",
    "    def hello(self):\n",
    "        print(self.name + \": I'm a perfect human!\")\n",
    "\n",
    "    def goodbye(self):\n",
    "        print(\"Good-bye \" + self.name + \"!\")\n",
    "\n",
    "m = PerfectHuman(\"David\")\n",
    "m.hello()\n",
    "m.goodbye()\n"
   ]
  },
  {
   "cell_type": "markdown",
   "metadata": {},
   "source": [
    "### 派生クラスから上書きした親クラスのメソッドを呼び出す"
   ]
  },
  {
   "cell_type": "code",
   "execution_count": null,
   "metadata": {
    "collapsed": true
   },
   "outputs": [],
   "source": [
    "class VeryPerfectHuman(PerfectHuman):\n",
    "    def __init__(self, name):\n",
    "        self.name = name\n",
    "        print(\"Initialized, Yeah!\")\n",
    "\n",
    "    def hello(self):\n",
    "        PerfectHuman.hello(self)    # 基底クラスのメソッド呼び出し(第１引数のselfが必要)\n",
    "        Man.hello(self)             # 2段上の親クラスでも直接指定して呼び出せる\n",
    "        print(self.name + \": I'm a very perfect human!\")\n",
    "\n",
    "m = VeryPerfectHuman(\"Bob\")\n",
    "m.hello()"
   ]
  },
  {
   "cell_type": "markdown",
   "metadata": {},
   "source": [
    "# 特殊な記号"
   ]
  },
  {
   "cell_type": "markdown",
   "metadata": {},
   "source": [
    "## Ellipsis\n",
    "* Pythonで使われる特殊な定数\n",
    "* \"...\" という記号で表現できる\n",
    "* Ellipsis を使えるように実装してあると使える\n",
    "    * たとえば NumPy は使えるように実装されているらしい\n",
    "* https://docs.python.jp/3/library/constants.html#Ellipsis"
   ]
  },
  {
   "cell_type": "code",
   "execution_count": null,
   "metadata": {
    "collapsed": true
   },
   "outputs": [],
   "source": [
    "# Ellipsis を使うように実装する例\n",
    "\n",
    "def foo(var):\n",
    "    if var is Ellipsis:\n",
    "        print(\"Yahoooo!\")\n",
    "    else:\n",
    "        print(\"Oh No!\")\n",
    "\n",
    "# Ellipsis を引数で与えてみる\n",
    "foo(...)"
   ]
  },
  {
   "cell_type": "markdown",
   "metadata": {},
   "source": [
    "# Python スクリプトファイル\n",
    "## スクリプトの作成\n",
    "* チュートリアルや実行確認目的では Jupyter Notebook形式が便利\n",
    "* pythonで長い処理を実行させる場合，スクリプトを作成した方が便利\n",
    "    * インタプリタへの入力となるプログラムファイルを作成し，インタプリタの入力として与え，実行させる\n",
    "* ファイルの作成\n",
    "    * ファイルを作成する場合，ファイル名の拡張子は “.py” で終わる場合が多い\n",
    "    * 既定のファイルの文字コードはUTF-8 でエンコードされているものとして扱われる\n",
    "* 参考\n",
    "    * Python のセットアップと利用: Pythonのセットアップの方法など使い方について\n",
    "        * https://docs.python.jp/3/using/index.html\n",
    "    * チュートリアル「2. Python インタプリタを使う」: Pythonの使い方，起動方法\n",
    "        * https://docs.python.jp/3/tutorial/interpreter.html\n",
    "    * チュートリアル「6. モジュール (module)」\n",
    "        * https://docs.python.jp/3/tutorial/modules.html\n",
    "    * Unicode HOWTO: PythonのUnicodeサポートについて\n",
    "        * https://docs.python.jp/3/howto/unicode.html\n"
   ]
  },
  {
   "cell_type": "markdown",
   "metadata": {},
   "source": [
    "## スクリプトの記述例\n",
    "* Unix系向けのスクリプトでは，ファイルをpythonの引数としてではなく直接実行できるようにするため，1行目にshebangと呼ばれる記述を用いる場合がある．\n",
    "    * ファイルには実行可能属性の設定が必要\n",
    "* 2行目のように文字コードを明示するとインタプリタやエディタなどが文字コードを適切に処理してくれることがある\n",
    "\n",
    "このファイルを hungry.py として保存した場合，pythonコマンドを利用して実行できる．\n",
    "```\n",
    "$ python3 hungry.py\n",
    "```"
   ]
  },
  {
   "cell_type": "code",
   "execution_count": null,
   "metadata": {
    "collapsed": true
   },
   "outputs": [],
   "source": [
    "#!/usr/bin/env python\n",
    "# -*- coding: utf-8 -*-\n",
    "\n",
    "# Pythonスクリプトの記述例\n",
    "\n",
    "# 関数の定義\n",
    "# 関数が呼び出されたときにのみ実行される\n",
    "def say_hungry():\n",
    "    print(\"I'm very Hungry!!!\")\n",
    "\n",
    "# メインルーチンとして実行される場合のみ実行する\n",
    "# pythonインタプリタから直接実行される場合に実行される．\n",
    "# 他のファイルから import されるときは実行されない\n",
    "#\n",
    "# Jupyter Notebookのセルの中に記述した場合にも実行される\n",
    "if __name__ == \"__main__\":\n",
    "    print(\"main start!\")\n"
   ]
  },
  {
   "cell_type": "markdown",
   "metadata": {},
   "source": [
    "## 記述済みファイルの参照\n",
    "* 他のPythonファイルで定義されているクラスや関数の定義を利用したい場合はimportやfromを使う\n",
    "* ファイル内の関数やクラスの外側に記述されたプログラムは，importされる際に実行される\n",
    "    * それを避けるには「**```__name__``` が ```__main__``` に等しい場合にのみ実行する**」ようにすればよい\n",
    "    * つまり「``` if __name__ == \"__main__\":```」のifブロックを使用する\n",
    "* import に from というキーワードを使用すると，ファイルの一部の定義のみ使うために使うことができる\n",
    "    * 他にも fromにはディレクトリの名称を指定するなど色々な使い方がある\n",
    "* 参考\n",
    "    * チュートリアル「6. モジュール (module)」\n",
    "        * https://docs.python.jp/3/tutorial/modules.html\n",
    "    * リファレンス「7.11. import 文」\n",
    "        * https://docs.python.jp/3/reference/simple_stmts.html#import"
   ]
  },
  {
   "cell_type": "code",
   "execution_count": null,
   "metadata": {
    "collapsed": true
   },
   "outputs": [],
   "source": [
    "# プログラムが hungry.py というファイル名で保存されている場合\n",
    "# 以下のように import 文を書くと hungry.py で定義された関数やクラスの定義を利用できる\n",
    "import hungry\n",
    "\n",
    "hungry.say_hungry()"
   ]
  },
  {
   "cell_type": "code",
   "execution_count": null,
   "metadata": {
    "collapsed": true
   },
   "outputs": [],
   "source": [
    "# hungry.py の say_hungry 関数の定義だけ利用したい場合\n",
    "# from を併用することで特定の定義のみ import できる\n",
    "from hungry import say_hungry\n",
    "\n",
    "# 関数の呼び出し，この場合は関数呼び出しで先頭に\"hungry.\" がつかない\n",
    "say_hungry()"
   ]
  }
 ],
 "metadata": {
  "kernelspec": {
   "display_name": "Python 3",
   "language": "python",
   "name": "python3"
  },
  "language_info": {
   "codemirror_mode": {
    "name": "ipython",
    "version": 3
   },
   "file_extension": ".py",
   "mimetype": "text/x-python",
   "name": "python",
   "nbconvert_exporter": "python",
   "pygments_lexer": "ipython3",
   "version": "3.5.3"
  },
  "toc": {
   "base_numbering": 1,
   "nav_menu": {},
   "number_sections": false,
   "sideBar": true,
   "skip_h1_title": false,
   "title_cell": "Table of Contents",
   "title_sidebar": "Contents",
   "toc_cell": false,
   "toc_position": {},
   "toc_section_display": true,
   "toc_window_display": false
  }
 },
 "nbformat": 4,
 "nbformat_minor": 2
}
