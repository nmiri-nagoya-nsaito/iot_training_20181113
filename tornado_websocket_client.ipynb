{
 "cells": [
  {
   "cell_type": "code",
   "execution_count": null,
   "metadata": {},
   "outputs": [],
   "source": [
    "# WebSocket 通信プログラム(クライアント)\n",
    "import websocket\n",
    "import threading\n",
    "import time"
   ]
  },
  {
   "cell_type": "code",
   "execution_count": 17,
   "metadata": {},
   "outputs": [
    {
     "name": "stdout",
     "output_type": "stream",
     "text": [
      "Session Opened. IP:172.23.0.5\n",
      "^C\n",
      "Traceback (most recent call last):\n",
      "  File \"websocket_server_random.py\", line 49, in <module>\n",
      "    tornado.ioloop.IOLoop.current().start()\n",
      "  File \"/Users/saito/.pyenv/versions/anaconda3-5.1.0/lib/python3.6/site-packages/tornado/ioloop.py\", line 863, in start\n",
      "    event_pairs = self._impl.poll(poll_timeout)\n",
      "  File \"/Users/saito/.pyenv/versions/anaconda3-5.1.0/lib/python3.6/site-packages/tornado/platform/kqueue.py\", line 66, in poll\n",
      "    kevents = self._kqueue.control(None, 1000, timeout)\n",
      "KeyboardInterrupt\n"
     ]
    }
   ],
   "source": [
    "!python3 websocket_server_random.py"
   ]
  },
  {
   "cell_type": "code",
   "execution_count": null,
   "metadata": {},
   "outputs": [],
   "source": [
    "# WebSocketクライアント(WebSocketクラスを使った短い版)\n",
    "\n",
    "message = \"send message from client\"\n",
    "\n",
    "# WebSocketサーバへの接続\n",
    "ws = websocket.WebSocket()\n",
    "ws.connect(\"ws://localhost:9090/ws\")\n",
    "\n",
    "# 送信\n",
    "ws.send(message)\n",
    "print(\"sent: \", message)\n",
    "\n",
    "# 受信\n",
    "res = ws.recv()\n",
    "print(\"received: \", res)\n",
    "\n",
    "# 接続を閉じる\n",
    "ws.close()"
   ]
  },
  {
   "cell_type": "code",
   "execution_count": null,
   "metadata": {
    "scrolled": true
   },
   "outputs": [],
   "source": [
    "# WebSocketクライアント(WebSocketAppクラスを使った長い版)\n",
    "# サーバとの接続がキープされるため，終了する場合は停止ボタンで止める\n",
    "\n",
    "def on_message(ws, message):\n",
    "    print(message)\n",
    "    ws.close()  # ここで切断するため，エラーメッセージが出力される場合がある\n",
    "    pass\n",
    "\n",
    "def on_error(ws, error):\n",
    "    print(error)\n",
    "\n",
    "def on_close(ws):\n",
    "    print(\"### websocket closed ###\")\n",
    "\n",
    "def on_open(ws):\n",
    "    def run(*args):\n",
    "        ws.send('send message from client')\n",
    "    #_thread.start_new_thread(run, ())\n",
    "    threading.Thread(target=run(),args=()).start()\n",
    "\n",
    "#websocket.enableTrace(True)\n",
    "ws = websocket.WebSocketApp(\"ws://localhost:9090/ws\",\n",
    "        on_open = on_open,\n",
    "        on_message=on_message,\n",
    "        on_error=on_error,\n",
    "        on_close=on_close)\n",
    "ws.run_forever()\n",
    "#ws.close()\n"
   ]
  }
 ],
 "metadata": {
  "kernelspec": {
   "display_name": "Python 3",
   "language": "python",
   "name": "python3"
  },
  "language_info": {
   "codemirror_mode": {
    "name": "ipython",
    "version": 3
   },
   "file_extension": ".py",
   "mimetype": "text/x-python",
   "name": "python",
   "nbconvert_exporter": "python",
   "pygments_lexer": "ipython3",
   "version": "3.6.4"
  },
  "toc": {
   "base_numbering": 1,
   "nav_menu": {},
   "number_sections": true,
   "sideBar": true,
   "skip_h1_title": false,
   "title_cell": "Table of Contents",
   "title_sidebar": "Contents",
   "toc_cell": false,
   "toc_position": {},
   "toc_section_display": true,
   "toc_window_display": false
  }
 },
 "nbformat": 4,
 "nbformat_minor": 2
}
