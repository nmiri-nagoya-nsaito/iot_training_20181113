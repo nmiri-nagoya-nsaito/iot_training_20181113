{
 "cells": [
  {
   "cell_type": "markdown",
   "metadata": {},
   "source": [
    "# TornadoによるWebSocket (サーバ)\n",
    "\n",
    "## WebSocket  とは\n",
    "* 通信規格の一つ\n",
    "    * RFC6455 (https://tools.ietf.org/html/rfc6455)\n",
    "    * 非公式日本語訳 https://triple-underscore.github.io/RFC6455-ja.html\n",
    "* 双方向通信を行うWebアプリケーションを実現するための技術\n",
    "* 従来のHTTPの問題点\n",
    "    * サーバがクライアントのそれぞれに対して下層のTCP接続をいくつも利用するよう強いられる\n",
    "        * クライアントへの情報の送信に1 個，着信メッセージのそれぞれに1個，など\n",
    "    * サーバからの更新をポーリングするために多数のTCP接続が必要となる\n",
    "    * クライアントからサーバへの各メッセージにHTTPヘッダが含まれるため，オーバーヘッドが高くなる\n",
    "    * クライアント側スクリプトが返信を追跡するために発信と着信との対応付けを保守する必要がある\n",
    "* WebSocketは1回接続したらそれを使い続けるため，負荷が軽減される\n",
    "\n",
    "## Tornadoとは\n",
    "* Pythonで書かれたWebフレームワーク/非同期通信ライブラリ\n",
    "* シングルプロセス，シングルスレッドで動作する\n",
    "* https://www.tornadoweb.org/en/stable/index.html\n"
   ]
  },
  {
   "cell_type": "markdown",
   "metadata": {},
   "source": [
    "## サンプル1\n",
    "\n",
    "### 内容\n",
    "* 以下の2つの機能を提供するサーバを構築する\n",
    "    * Webブラウザで 「http://<サーバのアドレス>:9090」 を開くと「Hello World」というメッセージのページが表示される．\n",
    "    * WebSocketクライアントは「ws://<サーバのアドレス>:9090/ws」に接続し，メッセージを送る．するとサーバは返答メッセージをクライアントに送信する"
   ]
  },
  {
   "cell_type": "code",
   "execution_count": null,
   "metadata": {
    "scrolled": true
   },
   "outputs": [],
   "source": [
    "# ファイルの内容\n",
    "!cat websocket_server.py"
   ]
  },
  {
   "cell_type": "code",
   "execution_count": null,
   "metadata": {
    "collapsed": true
   },
   "outputs": [],
   "source": [
    "# テンプレートファイルの内容\n",
    "!cat template/index.html"
   ]
  },
  {
   "cell_type": "code",
   "execution_count": null,
   "metadata": {
    "collapsed": true
   },
   "outputs": [],
   "source": [
    "# スタイルファイルの内容\n",
    "!cat static/style.css"
   ]
  },
  {
   "cell_type": "code",
   "execution_count": null,
   "metadata": {
    "collapsed": true
   },
   "outputs": [],
   "source": [
    "# サーバを起動(停止するときは停止ボタンを押す)\n",
    "!python3 websocket_server.py"
   ]
  },
  {
   "cell_type": "markdown",
   "metadata": {},
   "source": [
    "## サンプル2\n",
    "\n",
    "### 内容\n",
    "* Webブラウザで 「http://<サーバのアドレス>:8080」 を開く\n",
    "* HTTPサーバは同じマシン上で動作するWebSocketサーバに接続し，WebSocket経由で受信したランダムに変化する2つの数値を表示する"
   ]
  },
  {
   "cell_type": "code",
   "execution_count": null,
   "metadata": {
    "collapsed": true
   },
   "outputs": [],
   "source": [
    "# 内容の確認\n",
    "!cat websocket_server_random.py"
   ]
  },
  {
   "cell_type": "code",
   "execution_count": null,
   "metadata": {},
   "outputs": [],
   "source": [
    "!python3 websocket_server_random.py"
   ]
  },
  {
   "cell_type": "markdown",
   "metadata": {},
   "source": [
    "## サンプル3 画像配信サーバの構築\n",
    "\n",
    "### 内容\n",
    "* 「http://<ラズパイのアドレス>:8080」にアクセスすると，ラズパイのカメラ撮影映像のウェブページを表示する．\n",
    "* カメラの映像は定期的に更新される\n",
    "\n",
    "### 参考\n",
    "* http://weekendproject9.hatenablog.com/entry/2017/11/11/180920\n",
    "* https://docs.python.jp/3/library/base64.html\n",
    "* https://qiita.com/mas9612/items/5d3bf90b04bf19a1bf20"
   ]
  },
  {
   "cell_type": "code",
   "execution_count": null,
   "metadata": {},
   "outputs": [],
   "source": [
    "# プログラムの確認\n",
    "!cat websocket_server_camera.py"
   ]
  },
  {
   "cell_type": "code",
   "execution_count": null,
   "metadata": {},
   "outputs": [],
   "source": [
    "# 動作の確認\n",
    "!python3 websocket_server_camera.py"
   ]
  }
 ],
 "metadata": {
  "kernelspec": {
   "display_name": "Python 3",
   "language": "python",
   "name": "python3"
  },
  "language_info": {
   "codemirror_mode": {
    "name": "ipython",
    "version": 3
   },
   "file_extension": ".py",
   "mimetype": "text/x-python",
   "name": "python",
   "nbconvert_exporter": "python",
   "pygments_lexer": "ipython3",
   "version": "3.6.4"
  },
  "toc": {
   "base_numbering": 1,
   "nav_menu": {},
   "number_sections": false,
   "sideBar": true,
   "skip_h1_title": false,
   "title_cell": "Table of Contents",
   "title_sidebar": "Contents",
   "toc_cell": false,
   "toc_position": {},
   "toc_section_display": true,
   "toc_window_display": false
  }
 },
 "nbformat": 4,
 "nbformat_minor": 2
}
