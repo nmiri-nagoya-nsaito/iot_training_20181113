{
 "cells": [
  {
   "cell_type": "markdown",
   "metadata": {},
   "source": [
    "# IFTTTのWebhooksをPythonから利用する\n",
    "\n",
    "* https://qiita.com/jun1_0803/items/95cec2f149bdec82472d\n",
    "WebHook\n",
    "* https://ifttt.com/services/maker_webhooks/settings?aea=true\n",
    "* https://ifttt.com/services/maker_webhooks/settings"
   ]
  },
  {
   "cell_type": "markdown",
   "metadata": {},
   "source": [
    "# 手順\n",
    "\n",
    "1. IFTTTでアプレットを用意する\n",
    "  * 今回は「This(トリガとなるサービス)」に「Webhooks」を利用する\n",
    "  * 「That(起動するサービス)」はお好みのサービス(例えばSMSやLINEなど)を好みに合わせて選ぶ\n",
    "1. Webhooksの設定ページでアクセス先のURLを調べる．このURLにはPOSTやGETを行うためのURLが記載されている．\n",
    "  * https://ifttt.com/services/maker_webhooks/settings\n",
    "1. アクセス先URLにWebブラウザで接続し，使い方を確認する\n",
    "  * そこでウェブリクエストを行うためのURL情報が得られる\n",
    "1. Pythonプログラムでアクセスし，サービスが起動されることを確認する"
   ]
  },
  {
   "cell_type": "markdown",
   "metadata": {},
   "source": [
    "## GETでアクセス"
   ]
  },
  {
   "cell_type": "code",
   "execution_count": 5,
   "metadata": {},
   "outputs": [],
   "source": [
    "import urllib.request"
   ]
  },
  {
   "cell_type": "code",
   "execution_count": 2,
   "metadata": {},
   "outputs": [],
   "source": [
    "# イベント名とキーを確認の上，修正する\n",
    "url = \"https://maker.ifttt.com/trigger/<イベント名>/with/key/<キー>\"\n",
    "method = \"GET\"\n",
    "\n",
    "request = urllib.request.Request(url, method=method)"
   ]
  },
  {
   "cell_type": "code",
   "execution_count": 3,
   "metadata": {},
   "outputs": [],
   "source": [
    "# キーとメソッドからGETリクエストを送信し，応答を受け取る\n",
    "with urllib.request.urlopen(request) as response:\n",
    "  response_body = response.read().decode(\"utf-8\")"
   ]
  },
  {
   "cell_type": "code",
   "execution_count": 4,
   "metadata": {
    "scrolled": true
   },
   "outputs": [
    {
     "name": "stdout",
     "output_type": "stream",
     "text": [
      "Congratulations! You've fired the eve event\n"
     ]
    }
   ],
   "source": [
    "# 応答メッセージを確認する\n",
    "print(response_body)"
   ]
  },
  {
   "cell_type": "markdown",
   "metadata": {},
   "source": [
    "## データをPOSTでアクセス"
   ]
  },
  {
   "cell_type": "code",
   "execution_count": 6,
   "metadata": {},
   "outputs": [],
   "source": [
    "import urllib.request, json"
   ]
  },
  {
   "cell_type": "code",
   "execution_count": 10,
   "metadata": {},
   "outputs": [
    {
     "name": "stdout",
     "output_type": "stream",
     "text": [
      "json_data:  b'{\"value1\": 10}'\n"
     ]
    }
   ],
   "source": [
    "# イベント名とキーを確認の上，修正する\n",
    "# url = \"https://maker.ifttt.com/trigger/<イベント名>/with/key/<キー>\"\n",
    "url = \"https://maker.ifttt.com/trigger/eve/with/key/davb3w8mKPLqlagM8SGy0C\"\n",
    "method = \"POST\"\n",
    "headers = {\"Content-Type\" : \"application/json\"}\n",
    "\n",
    "# ディクショナリ obj を作成し，JSON形式に変換\n",
    "obj = {\"value1\" : 10}\n",
    "json_data = json.dumps(obj).encode(\"utf-8\")\n",
    "print(\"json_data: \", json_data)"
   ]
  },
  {
   "cell_type": "code",
   "execution_count": 11,
   "metadata": {},
   "outputs": [],
   "source": [
    "# 要求を送信し，応答を受け取る\n",
    "request = urllib.request.Request(url, data=json_data, method=method, headers=headers)\n",
    "with urllib.request.urlopen(request) as response:\n",
    "  response_body = response.read().decode(\"utf-8\")"
   ]
  },
  {
   "cell_type": "code",
   "execution_count": 12,
   "metadata": {},
   "outputs": [
    {
     "name": "stdout",
     "output_type": "stream",
     "text": [
      "response: Congratulations! You've fired the eve event\n"
     ]
    }
   ],
   "source": [
    "# 応答を確認\n",
    "print(\"response:\", response_body)"
   ]
  }
 ],
 "metadata": {
  "kernelspec": {
   "display_name": "Python 3",
   "language": "python",
   "name": "python3"
  },
  "language_info": {
   "codemirror_mode": {
    "name": "ipython",
    "version": 3
   },
   "file_extension": ".py",
   "mimetype": "text/x-python",
   "name": "python",
   "nbconvert_exporter": "python",
   "pygments_lexer": "ipython3",
   "version": "3.6.4"
  },
  "toc": {
   "base_numbering": 1,
   "nav_menu": {},
   "number_sections": false,
   "sideBar": true,
   "skip_h1_title": false,
   "title_cell": "Table of Contents",
   "title_sidebar": "Contents",
   "toc_cell": false,
   "toc_position": {},
   "toc_section_display": true,
   "toc_window_display": false
  }
 },
 "nbformat": 4,
 "nbformat_minor": 2
}
