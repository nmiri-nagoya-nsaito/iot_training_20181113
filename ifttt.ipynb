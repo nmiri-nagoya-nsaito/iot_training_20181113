{
 "cells": [
  {
   "cell_type": "markdown",
   "metadata": {},
   "source": [
    "# IFTTTのWebhooksをPythonから利用する\n",
    "\n",
    "* https://qiita.com/jun1_0803/items/95cec2f149bdec82472d\n",
    "WebHook\n",
    "* https://ifttt.com/services/maker_webhooks/settings?aea=true\n",
    "* https://ifttt.com/services/maker_webhooks/settings"
   ]
  },
  {
   "cell_type": "markdown",
   "metadata": {},
   "source": [
    "# 手順\n",
    "\n",
    "1. IFTTTでアプレットを用意する\n",
    "  * 今回は「This(トリガとなるサービス)」に「Webhooks」を利用する\n",
    "  * 「That(起動するサービス)」はお好みのサービス(例えばSMSやLINEなど)を使ってください\n",
    "1. Webhooksの設定ページでアクセス先のURLを調べる\n",
    "  * https://ifttt.com/services/maker_webhooks/settings\n",
    "1. アクセス先URLにWebブラウザで接続し，使い方を確認する\n",
    "1. Pythonプログラムでアクセスし，サービスが起動されることを確認する"
   ]
  },
  {
   "cell_type": "code",
   "execution_count": null,
   "metadata": {},
   "outputs": [],
   "source": []
  }
 ],
 "metadata": {
  "kernelspec": {
   "display_name": "Python 3",
   "language": "python",
   "name": "python3"
  },
  "language_info": {
   "codemirror_mode": {
    "name": "ipython",
    "version": 3
   },
   "file_extension": ".py",
   "mimetype": "text/x-python",
   "name": "python",
   "nbconvert_exporter": "python",
   "pygments_lexer": "ipython3",
   "version": "3.6.4"
  },
  "toc": {
   "base_numbering": 1,
   "nav_menu": {},
   "number_sections": false,
   "sideBar": true,
   "skip_h1_title": false,
   "title_cell": "Table of Contents",
   "title_sidebar": "Contents",
   "toc_cell": false,
   "toc_position": {},
   "toc_section_display": true,
   "toc_window_display": true
  }
 },
 "nbformat": 4,
 "nbformat_minor": 2
}
