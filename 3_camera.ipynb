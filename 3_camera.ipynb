{
 "cells": [
  {
   "cell_type": "markdown",
   "metadata": {},
   "source": [
    "# Pythonのcv2を用いた画像の取り込み\n",
    "\n",
    "## 参考\n",
    "\n",
    "[OpenCV-Pythonチュートリアル » OpenCVのGUI機能 » 動画を扱う](\n",
    "http://labs.eecs.tottori-u.ac.jp/sd/Member/oyamada/OpenCV/html/py_tutorials/py_gui/py_video_display/py_video_display.html)\n",
    "\n",
    "## 注意\n",
    "* ```\"VIDEOIO ERROR: V4L: can't open camera by index 0\"``` というエラーが発生する場合は，以下のコマンドを実行してみる\n",
    "    * ```$ sudo modprobe bcm2835-v4l2```\n",
    "        * 起動時に自動的に設定されるようにするため，/etc/modprobe に 「bcm2835-v4l2」という行を追加しておく\n",
    "    * \"v412\" ではなく **\"v4l2\"** なので注意(数字の「1」ではなく英小文字のエル)"
   ]
  },
  {
   "cell_type": "markdown",
   "metadata": {},
   "source": [
    "## カメラの準備（ケーブルの取り付け）\n",
    "\n",
    "<img src=\"image/camera-1.jpg\">\n",
    "<img src=\"image/camera-2.jpg\">\n",
    "<img src=\"image/camera-3.jpg\">"
   ]
  },
  {
   "cell_type": "code",
   "execution_count": null,
   "metadata": {},
   "outputs": [],
   "source": [
    "%matplotlib inline\n",
    "\n",
    "# cv2 は opencv-pythonパッケージのインストールで利用可能\n",
    "# https://pypi.org/project/opencv-python/\n",
    "import cv2\n",
    "import matplotlib.pyplot as plt\n",
    "\n",
    "# カメラからのキャプチャのためのオブジェクト取得\n",
    "cap = cv2.VideoCapture(0) # 0はカメラのデバイス番号\n",
    "\n",
    "# 1フレーム読み込む\n",
    "ret, frame = cap.read()\n",
    "\n",
    "# 読み込みに成功して入れば表示する\n",
    "if ret:\n",
    "    # OpenCVのBGRからmatplotlibのRGBに色を変換する\n",
    "    show_img = cv2.cvtColor(frame, cv2.COLOR_BGR2RGB) \n",
    "\n",
    "    area, (l, r) = plt.subplots(ncols=2)\n",
    "    l.imshow(frame)\n",
    "    r.imshow(show_img)\n",
    "\n",
    "# 解放処理\n",
    "cap.release()"
   ]
  },
  {
   "cell_type": "code",
   "execution_count": null,
   "metadata": {
    "scrolled": true
   },
   "outputs": [],
   "source": [
    "%matplotlib nbagg\n",
    "import cv2\n",
    "import matplotlib.pyplot as plt\n",
    "from matplotlib.animation import FuncAnimation\n",
    "\n",
    "# 画像取り込み部分は cv2 を利用\n",
    "# 画像の表示を matplotlib を用いて行う\n",
    "# 'q' キーを押すと停止する\n",
    "\n",
    "def cap_frame(c):\n",
    "    # 1フレーム読み込む\n",
    "    r, f = c.read()\n",
    "    if r:\n",
    "        # OpenCVのBGRからmatplotlibのRGBに色を変換\n",
    "        f = cv2.cvtColor(f, cv2.COLOR_BGR2RGB)\n",
    "    return r, f\n",
    "\n",
    "# カメラからのキャプチャのためのオブジェクト取得\n",
    "cap = cv2.VideoCapture(0) # 0はカメラのデバイス番号\n",
    "\n",
    "im = plt.imshow(cap_frame(cap)[1])\n",
    "\n",
    "# 更新処理\n",
    "def update(i):\n",
    "    is_captured, frame = cap_frame(cap)\n",
    "    if is_captured:\n",
    "        im.set_data(frame)\n",
    "        \n",
    "ani = FuncAnimation(plt.gcf(), update, interval=1)\n",
    "\n",
    "# クローズ動作\n",
    "def close(event):\n",
    "    if event.key == 'q':\n",
    "        # 解放処理\n",
    "        plt.close(event.canvas.figure)\n",
    "        cap.release()\n",
    "\n",
    "# キーイベントによる終了動作の設定\n",
    "cid = plt.gcf().canvas.mpl_connect(\"key_press_event\", close)\n",
    "\n",
    "# 表示開始\n",
    "plt.show()\n",
    "\n"
   ]
  },
  {
   "cell_type": "code",
   "execution_count": null,
   "metadata": {},
   "outputs": [],
   "source": [
    "!cat capture_camera_cv2.py"
   ]
  },
  {
   "cell_type": "code",
   "execution_count": null,
   "metadata": {},
   "outputs": [],
   "source": [
    "# スクリプトの実行(ウィンドウが開く．ESCキーで終了)\n",
    "!python3 capture_camera_cv2.py"
   ]
  },
  {
   "cell_type": "markdown",
   "metadata": {},
   "source": [
    "# ラズパイでの画像読み込み\n",
    "\n",
    "## 参考\n",
    "\n",
    "http://labs.eecs.tottori-u.ac.jp/sd/Member/oyamada/OpenCV/html/py_tutorials/py_gui/py_image_display/py_image_display.html#matplotlib\n",
    "\n",
    "\n",
    "    \n"
   ]
  },
  {
   "cell_type": "code",
   "execution_count": null,
   "metadata": {
    "scrolled": true
   },
   "outputs": [],
   "source": [
    "# RPiでカメラ画像を撮影（raspistill コマンド）\n",
    "!raspistill -o sample.jpg"
   ]
  },
  {
   "cell_type": "code",
   "execution_count": null,
   "metadata": {},
   "outputs": [],
   "source": [
    "# 画像を表示\n",
    "!gpicview sample.jpg"
   ]
  },
  {
   "cell_type": "code",
   "execution_count": null,
   "metadata": {},
   "outputs": [],
   "source": [
    "# RPiでコマンドで動画を撮影\n",
    "!raspivid -o video.h264 -t 5000"
   ]
  },
  {
   "cell_type": "code",
   "execution_count": null,
   "metadata": {},
   "outputs": [],
   "source": [
    "# 動画の再生\n",
    "!omxplayer video.h264"
   ]
  },
  {
   "cell_type": "code",
   "execution_count": null,
   "metadata": {},
   "outputs": [],
   "source": [
    "# picamera のインポート\n",
    "# https://picamera.readthedocs.io/en/release-1.12/\n",
    "# sudo apt-get install python3-picamera\n",
    "import picamera"
   ]
  },
  {
   "cell_type": "code",
   "execution_count": null,
   "metadata": {},
   "outputs": [],
   "source": [
    "# 静止画の撮影\n",
    "with picamera.PiCamera() as camera:\n",
    "    camera.capture('image.jpg')\n",
    "    pass"
   ]
  },
  {
   "cell_type": "code",
   "execution_count": null,
   "metadata": {},
   "outputs": [],
   "source": [
    "# カメラの設定を色々変えてみる\n",
    "# https://picamera.readthedocs.io/en/release-1.12/api_camera.html\n",
    "from time import sleep\n",
    "\n",
    "with picamera.PiCamera as camera:\n",
    "    # カメラのプレビューを表示\n",
    "    camera.start_preview()\n",
    "    sleep(1)\n",
    "    # 上下・左右の反転\n",
    "    camera.hflip = True\n",
    "    sleep(1)\n",
    "    camera.vflip = True\n",
    "    sleep(1)\n",
    "    camera.hflip = False\n",
    "    sleep(1)\n",
    "    camera.vflip = False\n",
    "    sleep(1)\n",
    "\n",
    "    # 一部切り出し\n",
    "    camera.crop = (0.3, 0.3, 0.7, 0.7)\n",
    "    sleep(1)\n",
    "    camera.crop = (0.0, 0.0, 1.0, 1.0)\n",
    "    sleep(1)\n",
    "    \n",
    "    # 回転\n",
    "    camera.rotation = 90\n",
    "    sleep(1)\n",
    "    camera.rotation = 180\n",
    "    sleep(1)\n",
    "    camera.rotation = 270\n",
    "    sleep(1)\n",
    "    camera.rotation = 0    \n",
    "    sleep(1)\n",
    "\n",
    "    camera.stop_preview()\n",
    "    pass"
   ]
  },
  {
   "cell_type": "code",
   "execution_count": null,
   "metadata": {},
   "outputs": [],
   "source": [
    "# 動画の記録(例では10秒)\n",
    "with picamera.PiCamera as camera:\n",
    "    camera.start_preview()\n",
    "    camera.start_recording('video.h264')\n",
    "    picamera.wait_recording(10)\n",
    "    camera.stop_preview()\n",
    "    camera.stop_recording()"
   ]
  },
  {
   "cell_type": "code",
   "execution_count": null,
   "metadata": {},
   "outputs": [],
   "source": [
    "# 写真を保存する例\n",
    "import datetime\n",
    "import os\n",
    "\n",
    "# 現在時刻からファイル名，フォルダ名を決定する\n",
    "now = datetime.datetime.now()\n",
    "dir_name = now.strftime('%Y%m%d')\n",
    "dir_path = os.getcwd()+'/'+dir_name\n",
    "file_name = now.strftime('%H%M%S')\n",
    "\n",
    "# ディレクトリがなければ作成\n",
    "if not os.path.exists(dir_path):\n",
    "    os.makedirs(dir_path)\n",
    "    os.chmod(dir_path, 0o0777)\n",
    "\n",
    "# 画像の撮影，保存\n",
    "with picamera.PiCamera() as camera:\n",
    "    camera.capture(dir_path+'/'+file_name+'.jpg')\n",
    "    pass"
   ]
  }
 ],
 "metadata": {
  "kernelspec": {
   "display_name": "Python 3",
   "language": "python",
   "name": "python3"
  },
  "language_info": {
   "codemirror_mode": {
    "name": "ipython",
    "version": 3
   },
   "file_extension": ".py",
   "mimetype": "text/x-python",
   "name": "python",
   "nbconvert_exporter": "python",
   "pygments_lexer": "ipython3",
   "version": "3.6.4"
  },
  "toc": {
   "base_numbering": 1,
   "nav_menu": {},
   "number_sections": false,
   "sideBar": true,
   "skip_h1_title": false,
   "title_cell": "Table of Contents",
   "title_sidebar": "Contents",
   "toc_cell": false,
   "toc_position": {},
   "toc_section_display": true,
   "toc_window_display": false
  }
 },
 "nbformat": 4,
 "nbformat_minor": 2
}
