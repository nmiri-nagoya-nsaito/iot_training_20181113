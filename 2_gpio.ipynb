{
 "cells": [
  {
   "cell_type": "markdown",
   "metadata": {},
   "source": [
    "# PythonからGPIOポートへのアクセス\n",
    "\n",
    "## 参考\n",
    "* https://qiita.com/maoutokagura/items/9aef5e23167ce2bc1d10\n",
    "* https://qiita.com/koooooo/items/e5fa77f98e6ce5c05776\n",
    "\n",
    "* RPi.GPIO Python Module(Wiki)\n",
    "    * https://sourceforge.net/p/raspberry-gpio-python/wiki/Home/\n",
    "    * RPi.GPIOモジュール開発元のWikiページ\n",
    "    * RPi で RPi.GPIO を使う場合，以下のパッケージをaptでインストールしておく\n",
    "        * python3-rpi.gpio (Python3)\n",
    "        * python-rpi.gpio  (Python2)\n",
    "* Inputs\n",
    "    * https://sourceforge.net/p/raspberry-gpio-python/wiki/Inputs/"
   ]
  },
  {
   "cell_type": "markdown",
   "metadata": {},
   "source": [
    "## 回路の準備\n",
    "\n",
    "* 使用ピン\n",
    "    * 1ピン：3.3v電源\n",
    "    * 6ピン：GND\n",
    "    * 8ピン：GPIO14\n",
    "    * 10ピン：GPIO15\n",
    "\n",
    "<img src=\"image/circuit-1.jpg\">\n",
    "<img src=\"image/circuit-2.jpg\">\n",
    "<img src=\"image/circuit-3.jpg\">\n"
   ]
  },
  {
   "cell_type": "code",
   "execution_count": null,
   "metadata": {},
   "outputs": [],
   "source": [
    "# ターミナルからピン番号や状態を確認\n",
    "!gpio readall"
   ]
  },
  {
   "cell_type": "markdown",
   "metadata": {},
   "source": [
    "## プッシュボタンを使う"
   ]
  },
  {
   "cell_type": "markdown",
   "metadata": {},
   "source": [
    "## ポーリングで読み出し"
   ]
  },
  {
   "cell_type": "code",
   "execution_count": null,
   "metadata": {},
   "outputs": [],
   "source": [
    "# 連続的にピンの状態を確認する\n",
    "# 終了するときは停止ボタンで止める\n",
    "\n",
    "import RPi.GPIO as GPIO  # GPIOライブラリ\n",
    "import time\n",
    "import sys\n",
    "\n",
    "# ピンの設定\n",
    "GPIO.setwarnings(False)  # 警告を無視\n",
    "GPIO.setmode(GPIO.BOARD) # ピンの番号は物理ピンの番号を使う\n",
    "GPIO.setup(10, GPIO.IN, pull_up_down=GPIO.PUD_DOWN) # 10番ピンをプルダウンかつ入力に設定\n",
    "GPIO.setup(8,GPIO.OUT, initial=GPIO.HIGH)    # ピン番号8番を出力に設定する．初期値はHIGH\n",
    "\n",
    "# ピンの初期設定\n",
    "\n",
    "try:\n",
    "    while True:\n",
    "        if GPIO.input(10) == GPIO.HIGH:\n",
    "            GPIO.output(8, GPIO.LOW)\n",
    "            print(\"Button was pushed!\")\n",
    "            time.sleep(1)\n",
    "            GPIO.output(8, GPIO.HIGH)\n",
    "except KeyboardInterrupt:    # 停止時の動作\n",
    "        print('Interrupted')\n",
    "finally:\n",
    "        # GPIO設定を初期化\n",
    "        GPIO.cleanup()\n"
   ]
  },
  {
   "cell_type": "markdown",
   "metadata": {},
   "source": [
    "## イベント駆動での読み出し\n",
    "\n",
    "* 常に入力をチェックするのではなく，押したタイミングだけ動くようにする"
   ]
  },
  {
   "cell_type": "code",
   "execution_count": null,
   "metadata": {},
   "outputs": [],
   "source": [
    "!cat gpio_event.py"
   ]
  },
  {
   "cell_type": "code",
   "execution_count": null,
   "metadata": {
    "scrolled": false
   },
   "outputs": [],
   "source": [
    "!python3 gpio_event.py"
   ]
  },
  {
   "cell_type": "code",
   "execution_count": null,
   "metadata": {},
   "outputs": [],
   "source": [
    "import RPi.GPIO as GPIO\n",
    "import time\n",
    "from threading import Timer\n",
    "\n",
    "# ピンの設定\n",
    "GPIO.setwarnings(False)  # 警告を無視\n",
    "GPIO.setmode(GPIO.BOARD) # ピンの番号は物理ピンの番号を使う\n",
    "GPIO.setup(10, GPIO.IN, pull_up_down=GPIO.PUD_DOWN) # 10番ピンをプルダウンかつ入力に設定\n",
    "GPIO.setup(8,GPIO.OUT, initial=GPIO.HIGH)    # ピン番号8番を出力に設定する．初期値はHIGH\n",
    "\n",
    "# LEDをOFFにする処理\n",
    "def led_off():\n",
    "    GPIO.output(8, GPIO.HIGH)\n",
    "\n",
    "# ボタンが押されたときに実行する関数\n",
    "def button_callback(channel):\n",
    "    if(channel==10):\n",
    "        print(\"Button was pushed!\")\n",
    "        GPIO.output(8, GPIO.LOW)\n",
    "        # 1秒後にLEDをOFF\n",
    "        Timer(1, led_off).start()\n",
    "\n",
    "# 入力ピンの信号の立ち上がりでイベントを発生させる\n",
    "GPIO.add_event_detect(10,GPIO.RISING,callback=button_callback, bouncetime=1000)\n",
    "\n",
    "try:\n",
    "    # キーボード入力待ち\n",
    "    message = input(\"Press enter to quit\\n\\n\") \n",
    "except KeyboardInterrupt:\n",
    "    print('Keyboard Interrupted')\n",
    "finally:\n",
    "    # GPIO設定を初期化\n",
    "    GPIO.cleanup()"
   ]
  }
 ],
 "metadata": {
  "kernelspec": {
   "display_name": "Python 3",
   "language": "python",
   "name": "python3"
  },
  "language_info": {
   "codemirror_mode": {
    "name": "ipython",
    "version": 3
   },
   "file_extension": ".py",
   "mimetype": "text/x-python",
   "name": "python",
   "nbconvert_exporter": "python",
   "pygments_lexer": "ipython3",
   "version": "3.6.4"
  },
  "toc": {
   "base_numbering": 1,
   "nav_menu": {},
   "number_sections": false,
   "sideBar": true,
   "skip_h1_title": false,
   "title_cell": "Table of Contents",
   "title_sidebar": "Contents",
   "toc_cell": false,
   "toc_position": {},
   "toc_section_display": true,
   "toc_window_display": true
  }
 },
 "nbformat": 4,
 "nbformat_minor": 2
}
