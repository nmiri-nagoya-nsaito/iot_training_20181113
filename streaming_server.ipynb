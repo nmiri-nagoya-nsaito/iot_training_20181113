{
 "cells": [
  {
   "cell_type": "markdown",
   "metadata": {},
   "source": [
    "# 画像配信サーバの構築\n",
    "\n",
    "* http://weekendproject9.hatenablog.com/entry/2017/11/11/180920\n",
    "* http://pcboy.dip.jp/xoops/modules/publisher/item.php?itemid=891\n",
    "* https://docs.python.jp/3/library/base64.html\n",
    "* https://qiita.com/mas9612/items/5d3bf90b04bf19a1bf20"
   ]
  },
  {
   "cell_type": "code",
   "execution_count": 1,
   "metadata": {},
   "outputs": [
    {
     "name": "stdout",
     "output_type": "stream",
     "text": [
      "Traceback (most recent call last):\r\n",
      "  File \"streaming_server.py\", line 2, in <module>\r\n",
      "    import picamera\r\n",
      "ModuleNotFoundError: No module named 'picamera'\r\n"
     ]
    }
   ],
   "source": [
    "#\n",
    "!python streaming_server.py"
   ]
  }
 ],
 "metadata": {
  "kernelspec": {
   "display_name": "Python 3",
   "language": "python",
   "name": "python3"
  },
  "language_info": {
   "codemirror_mode": {
    "name": "ipython",
    "version": 3
   },
   "file_extension": ".py",
   "mimetype": "text/x-python",
   "name": "python",
   "nbconvert_exporter": "python",
   "pygments_lexer": "ipython3",
   "version": "3.6.4"
  },
  "toc": {
   "base_numbering": 1,
   "nav_menu": {},
   "number_sections": false,
   "sideBar": true,
   "skip_h1_title": false,
   "title_cell": "Table of Contents",
   "title_sidebar": "Contents",
   "toc_cell": false,
   "toc_position": {},
   "toc_section_display": true,
   "toc_window_display": false
  }
 },
 "nbformat": 4,
 "nbformat_minor": 2
}
